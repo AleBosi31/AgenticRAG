{
 "cells": [
  {
   "cell_type": "markdown",
   "metadata": {},
   "source": [
    "# **Get Data from PDFs**"
   ]
  },
  {
   "cell_type": "code",
   "execution_count": 49,
   "metadata": {},
   "outputs": [],
   "source": [
    "from typing import Optional, List, Dict\n",
    "import re\n",
    "import requests\n",
    "import json\n",
    "import os\n",
    "from tqdm import tqdm\n",
    "import PyPDF2"
   ]
  },
  {
   "cell_type": "code",
   "execution_count": 50,
   "metadata": {},
   "outputs": [],
   "source": [
    "OPENAI_API_KEY = \"your_api_key\""
   ]
  },
  {
   "cell_type": "markdown",
   "metadata": {},
   "source": [
    "# **Get Data from PDFs**"
   ]
  },
  {
   "cell_type": "code",
   "execution_count": 51,
   "metadata": {},
   "outputs": [],
   "source": [
    "def read_pdfs_from_folder(folder_path: str) -> List[Dict[str, str]]:\n",
    "    \"\"\"\n",
    "    Legge i file PDF da una cartella specificata ed estrae il loro contenuto.\n",
    "\n",
    "    Parametri:\n",
    "        folder_path (str): Il percorso della cartella contenente i file PDF\n",
    "\n",
    "    Restituisce:\n",
    "        List[Dict[str, str]]: Una lista di dizionari, ognuno contenente il contenuto\n",
    "                              e il nome del file di un PDF\n",
    "    \"\"\"\n",
    "    pdf_list = []\n",
    "    # Scorre tutti i file nella cartella specificata\n",
    "    for filename in tqdm(os.listdir(folder_path)):\n",
    "        if filename.endswith('.pdf'):\n",
    "            file_path = os.path.join(folder_path, filename)\n",
    "            # Apre ogni file PDF\n",
    "            with open(file_path, 'rb') as file:\n",
    "                reader = PyPDF2.PdfReader(file)\n",
    "                content = \"\"\n",
    "                # Legge il contenuto di ogni pagina e lo aggiunge a una stringa\n",
    "                for page in reader.pages:\n",
    "                    content += page.extract_text()\n",
    "                # Aggiunge il contenuto del PDF alla lista\n",
    "                pdf_list.append({\"content\": content, \"filename\": filename})\n",
    "    return pdf_list"
   ]
  },
  {
   "cell_type": "code",
   "execution_count": 52,
   "metadata": {},
   "outputs": [
    {
     "name": "stderr",
     "output_type": "stream",
     "text": [
      "100%|██████████| 1/1 [00:00<00:00,  3.15it/s]"
     ]
    },
    {
     "name": "stdout",
     "output_type": "stream",
     "text": [
      "Numero totale di documenti elaborati: 1\n"
     ]
    },
    {
     "name": "stderr",
     "output_type": "stream",
     "text": [
      "\n"
     ]
    }
   ],
   "source": [
    "texts = []\n",
    "metadatas = []\n",
    "\n",
    "folder_path = \"./data\"\n",
    "pdf_contents = read_pdfs_from_folder(folder_path)\n",
    "\n",
    "for pdf in pdf_contents:\n",
    "    texts.append(pdf[\"content\"])\n",
    "    metadatas.append({\"filename\": pdf[\"filename\"]})\n",
    "\n",
    "assert len(metadatas) == len(texts)\n",
    "print(f\"Numero totale di documenti elaborati: {len(texts)}\")"
   ]
  },
  {
   "cell_type": "code",
   "execution_count": 53,
   "metadata": {},
   "outputs": [
    {
     "data": {
      "text/plain": [
       "[{'content': 'GUIDA AL BANDO\\na.a. 2024/20252\\nComunicare con l’Azienda\\nIl bando di concorso benefici per il DSU a.a. 2024/2025  si può consultare \\ne scaricare dal sito www.er-go.it.\\nI benefici a concorso si richiedono presentando domanda on-line dal \\nsito www.er-go.it , sezione “ FAI DOMANDA ONLINE ”\\nPer comunicare con l’Azienda:\\nCHIAMA\\nsportello telefonico al quale lo studente può rivolgersi per consulenze \\nsulla presentazione della domanda, sulle procedure da seguire per \\naccedere ai benefici e ai servizi dell’Azienda e per approfondimenti sugli \\nargomenti del diritto allo studio.\\ntel. 051.19907580 / 051.0185268\\nIl servizio è attivo dal:\\n- dal 15 luglio al 15 novembre  dal lunedì al giovedì, dalle 10.00 alle \\n12.30 - lunedì dalle 14.00 alle 16.00 - mercoledì dalle 16.00 alle 18.00\\n- 16 novembre al 14 luglio  lunedì, martedì e giovedì dalle 10.00 alle \\n12.30 - lunedì e mercoledì dalle 14.00 alle 16.00 \\nSCRIVI \\nServizio di mail ticketing accessibile dal DOSSIER UTENTE sul sito di \\nER.GO ( https://dossier.er-go.it ), dedicato alla consulenza sul Bando di \\nconcorso con presa in carico delle specifiche situazioni.\\nDOSSIER UTENTE:  servizio rivolto all’utenza, accessibile sia da smartphone \\nche da postazione desktop all’indirizzo https://dossier.er-go.it, mediante \\nidentità digitale SPID, CIE, CNS o mediante le credenziali di Ateneo per i \\nnon residenti in Italia.\\nIl Dossier Utente è il fascicolo personale che accompagna lo studente \\nnel corso degli anni accademici.\\nNel Dossier, per ciascun anno accademico, è possibile tra l’altro:3• accedere alla domanda on line;\\n• visualizzare i benefici richiesti;\\n• consultare gli esiti delle graduatorie;\\n• visualizzare lo stato di assegnazione dei benefici richiesti;\\n• visualizzare i dati di carriera accertati dall’Università;\\n• aggiornare il codice IBAN e visualizzare gli avvisi di pagamento relativi \\nalla borsa di studio e agli altri benefici economici erogati da ER.GO;\\n• inviare documenti ad ER.GO, che saranno archiviati e disponibili per \\nsuccessive consultazioni nella sezione Protocollo;\\n• visualizzare il conto corrente studente (crediti e debiti nei confronti di \\nER.GO) e la Certificazione Unica;\\n• visualizzare le comunicazioni inviate da ER.GO;\\n• accedere ad ABITARE ER.GO per servizi dedicati all’abitare in \\nstudentato;\\n• generare il QR code per l’utilizzo del prepagato per la ristorazione;\\n• chiedere di partecipare ad incontri/colloqui di orientamento al lavoro \\no di supporto allo studio;\\n• prenotare colloqui con operatori ER.GO;\\n• compilare diversi moduli nella sezione dedicata Modulistica.\\nTutte le comunicazioni dall’Azienda agli studenti (comprese quelle \\nrelative alla perdita dei requisiti, ai procedimenti relativi ai controlli ecc.) \\navverranno di norma tramite la pubblicazione sul Dossier Utente, che \\navrà a tutti gli effetti valore ufficiale, in sostituzione della comunicazione \\npostale.\\nPosta Certificata ER.GO: info@postacert.er-go.it\\nPer altri servizi consultare https://www.er-go.it/contatti .\\nSi rinvia alla lettura integrale del Bando di concorso Benefici DSU dell’a.a. \\n2024/2025, per quanto non indicato nella presente Guida.INDICE\\n1. I benefici a concorso 6\\n2. Chi può presentare domanda 7\\n3. Le condizioni necessarie per accedere ai benefici 9\\n4. Come presentare domanda 10\\n5. Quando presentare domanda 16\\n6. Le graduatorie 20\\n7. Le borse di studio 22\\n7.1. Valore della borsa di studio 22\\n7.2. Valore della borsa di studio – Incrementi  23\\n7.3. Integrazione della borsa di studio per laureati in \\ncorso nell’a.a. 2023/2024 24\\n7.4. Valore della borsa di studio – conversione in \\nprepagato ristorazione 24\\n7.5. Pagamento della borsa di studio  25\\n8. Condizione di Studente Fuori Sede, Pendolare,  \\nIn Sede 26\\n9. I requisiti economici 32\\n10. I requisiti di merito 34\\n11. Modalità di riscossione degli interventi economici 40\\n12. Revoca dei benefici 40\\n13. I servizi residenziali 42\\n14. Accesso agevolato al servizio ristorativo 44\\n15. I contributi per la mobilità internazionale 45\\n16. Gli interventi straordinari  4617. Contributo per studenti fuori sede in alloggio\\n che intraprendono un tirocinio formativo\\n post lauream in Emilia-Romagna 47\\n18. Studenti internazionali 50\\n18.1.  La documentazione richiesta agli\\n  studenti internazionali provenienti da Paesi non \\nappartenenti all’Unione Europea 51\\n18.2.  La documentazione richiesta\\n  agli studenti internazionali provenienti da Paesi \\ndell’Unione Europea  54\\n18.3. Disposizioni comuni a studenti internazionali\\n provenienti da Paesi UE e da Paesi extra UE 55\\n18.4.  Studenti internazionali riconosciuti apolidi \\n o titolari di protezione internazionale (con \\n permesso di soggiorno per asilo o protezione\\n sussidiaria) o titolari di permesso di soggiorno di\\n protezione temporanea o complementare 56\\nAppendice sulla documentazione di domicilio 586\\nGuida ai Bandi1. I benefici a concorso\\nPer accedere ai seguenti benefici è necessario presentare domanda:\\nBenefici Soggetto gestore/responsabile\\nBorsa di studio ER.GO\\nServizio abitativo ER.GO\\nServizio abitativo Unimore Sport \\nExcellenceER.GO ed Università di Modena e Reggio \\nEmilia\\nContributi per la partecipazione \\na programmi di mobilità \\ninternazionale (non destinato alle \\nmatricole)ER.GO\\nAccesso agevolato al servizio \\nristorativoER.GO\\nInterventi in favore di studenti con \\ndisabilitàER.GO\\nInterventi straordinari (non \\ndestinato alle matricole)ER.GO anche in collaborazione con Università\\nEsonero totale (per studenti che \\nrichiedono anche la borsa di studio) Università e Istituti dell’Alta Formazione \\nArtistica e Musicale\\nL’esonero totale è associato all’idoneità alla \\nborsa di studio\\nEsonero totale o parziale  \\nTop Student UnimoreUniversità \\nER.GO acquisisce le domande per l’Università \\ndi Modena e Reggio Emilia\\nEsonero totale e parziale per \\nstudenti con disabilità-UnimoreUniversità\\nER.GO acquisisce le domande per l’Università \\ndi Modena e Reggio Emilia\\nEsonero no tax area e contributo in \\nbase all’ISEE (UNIBO)\\nDomanda per contributo \\nuniversitario personalizzato \\n(UNIPR)\\nEsonero no tax area, contribuzione \\ndifferenziata e flat tax studenti \\nextra UE  (UNIMORE)Università\\nER.GO acquisisce le domande per l’Università \\ndi Bologna, l’Università di Modena e Reggio \\nEmilia e l’Università di ParmaGuida ai Bandi7Benefici Soggetto gestore/responsabile\\nContributo affitto- UNIBOUniversità\\nER.GO acquisisce le domande per l’Università \\ndi Bologna\\nCollaborazioni studentesche \\nretribuite/part-time (non destinato \\nalle matricole)Università\\n \\nER.GO acquisisce le domande per l’Università \\ndi Modena e Reggio Emilia\\nCollaborazioni a tempo parziale \\nper studenti dei corsi interateneo \\n“MUNER” e degli altri corsi \\ninterateneo delle Università \\ndell’Emilia-Romagna, con sede in \\nEmilia-RomagnaER.GO\\nAssegni formativi (voucher) ER.GO\\nContributo per studenti fuori sede \\nin alloggio che intraprendono un \\ntirocinio formativo post lauream in \\nEmilia-RomagnaER.GO\\n2. Chi può presentare domanda\\nTutti gli studenti delle Università, degli Istituti dell’Alta Formazione \\nArtistica e Musicale, degli Istituti Superiori di Grado Universitario con \\nsede in Emilia-Romagna, indipendentemente dallo Stato o dalla regione \\ndi provenienza, che si iscrivono per l’a.a. 2024/2025 a:\\n> Corsi di laurea\\n> Corsi di laurea magistrale\\n> Corsi di laurea magistrale a ciclo unico\\n> Corsi di specializzazione: di durata almeno biennale, escluse le scuole \\ndi area medica di cui al decreto legislativo 17 agosto 1999, n. 368;\\n> Diplomi accademici di primo, di secondo livello e di perfezionamento \\ndegli Istituti dell’Alta Formazione Artistica e Musicale (A.F.A.M.) e degli \\nIstituti Superiori di Grado Universitario;\\n> Corsi di Dottorato di ricerca attivati dalle Università ai sensi del D.lgs. \\n3 luglio 1998, n. 210, art. 4, come modificato dalla L. 30 dicembre \\n2010, n. 240;8\\nGuida ai Bandiin regola con il versamento della tassa regionale per i DSU in favore della \\nregione Emilia-Romagna per l’a.a. 2024/2025 .\\nPer gli studenti iscritti ai corsi interateneo “MUNER”  (Associazione che \\nriunisce le quattro Università di Bologna, Ferrara, Modena e Reggio \\nEmilia e Parma e le grandi marche della Motor Valley con l’obiettivo \\ndi promuovere il potenziamento dell’innovazione e dell’offerta formativa \\nemiliano-romagnola nel campo dell’automotive) e agli altri corsi \\ninterateneo delle Università dell’Emilia-Romagna, con sede in Emilia-\\nRomagna sono previste specifiche modalità di erogazione degli interventi \\nper il diritto allo studio universitario, che tengono conto dell’articolazione \\ndel corso su più sedi (sede amministrativa e sede didattica) per semestre \\no annualità. Si rinvia alle singole Sezioni del Bando di concorso per la \\ndisciplina specifica degli interventi.\\nStudenti in contemporanea iscrizione a due corsi di studio\\nNei casi di contemporanea iscrizione per l’a.a. 2024/2025 a due corsi di \\nstudio, ai sensi della L. 12 aprile 2022 e del D.M. e del D.M. 930/2022, \\nlo studente iscritto ad un corso di studio, che usufruisce dei benefici per \\nil diritto allo studio universitario, non può scegliere il successivo corso di \\nstudio cui eventualmente si iscrive per usufruire dei medesimi benefici. \\nSolo qualora uno studente iscritto ad un corso di studio non abbia mai \\nusufruito dei benefici per il diritto allo studio universitario, potrà chiedere \\ni benefici per il secondo corso di studio. \\nQualora entrambi i corsi di studio siano presso un Ateneo/Istituto \\ndell’Emilia-Romagna è sufficiente il versamento della tassa regionale per \\nil diritto allo studio universitario per la sola iscrizione al corso di studi per \\nil quale lo studente usufruisce dei benefici a concorso.Guida ai Bandi93. Le condizioni necessarie  \\nper accedere ai benefici\\n- La condizione economica e patrimoniale del nucleo familiare (ISEE/\\nISPE)\\n Per accedere ai servizi di ER.GO i due indicatori ISEE ed ISPE non \\ndevono superare rispettivamente i seguenti valori massimi:\\nBenefici Soglia ISEE Soglia ISPE\\nBorsa di studio € 25.000,00 € 50.000,00\\nServizi Residenziali ad accesso \\nagevolato€ 25.000,00 € 50.000,00\\nContributi per la mobilità \\ninternazionale€ 25.000,00 € 50.000,00\\nInterventi straordinari € 25.000,00 € 50.000,00\\nAccesso Agevolato ai Servizi \\nRistorativi1 € 28.000,00 € 62.000,00\\nInterventi per studenti con disabilità:\\n- Aiuti alla persona\\n- Contributi€ 32.000,00\\n€ 28.000,00€ 62.000,00\\n€ 62.000,00\\nAssegni formativi (voucher) \\nper l’accesso e la frequenza a \\nMaster, Corsi di Alta Formazione e \\nSpecializzazione all’estero€ 40.000,00 € 62.000,00\\nCollaborazioni a tempo parziale \\nER.GO per studenti dei corsi \\ninterateneo “MUNER” e degli altri \\ncorsi interateneo delle Università \\ndell’Emilia-Romagna, con sede in \\nEmilia-Romagna€ 28.000,00 € 62.000,00\\nContributo per studenti \\nfuori sede in alloggio che \\nintraprendono un tirocinio \\nformativo post lauream in \\nEmilia-Romagna€ 25.000,00 € 50.000,00\\n1  La possibilità di richiedere il beneficio è riservata agli studenti con indicatori ISEE \\ne/o ISPE superiori ai limiti massimi previsti per la borsa di studio, purché inferiori a € \\n28.000,00 ISEE ed € 62.000,00 ISPE.10\\nGuida ai Bandi- Il merito\\n Le matricole, a differenza degli anni successivi, accedono alla borsa \\ndi studio sulla base della sola condizione economica. Tutti gli studenti, \\nmatricole ed anni successivi, per mantenere la borsa di studio e \\nnon essere tenuti alla restituzione delle rate ricevute dovranno poi \\nraggiungere un determinato merito nel corso dell’anno accademico. \\n- L’iscrizione  all’Università, agli Istituti dell’Alta Formazione Artistica e \\nMusicale, alla Scuola Superiore per Mediatori Linguistici San Pelle -\\ngrino di Rimini e al CIELS Bologna entro i termini di iscrizione previsti \\nper accedere ai benefici così come indicati nell’art. 13 della Sezione \\nI - Norme Generali del Bando di concorso.\\n- La presentazione  della domanda entro le scadenze indicate nel Para -\\ngrafo Quando presentare domanda .\\n4. Come presentare domanda\\nLa domanda si compila esclusivamente on-line collegandosi al sito www.\\ner-go.it  sezione “FAI DOMANDA ONLINE” oppure presso i CAF (Centri di \\nAssistenza Fiscale) convenzionati con l’Azienda (elenco completo sul sito \\nwww.er-go.it).\\nAl fine di delegare il CAF prescelto alla compilazione della domanda gli \\nstudenti interessati devono prestare attenzione alle istruzioni presenti \\nnella Suite dei Servizi on line.\\nSi potrà accedere alla domanda on line esclusivamente con l’identità digitale \\nSPID, carta d’identità elettronica (CIE) o carta nazionale dei servizi (CNS).\\nSe non ne sono già provvisti, dovranno quindi richiedere l’identità \\ndigitale (SPID, CIE o CNS) per accedere ai servizi on line gli studenti:\\n• in possesso di un documento di identità italiano (carta d’identità, \\npatente di guida, passaporto);\\n• residenti in Italia (la residenza in Italia consente di richiedere la carta \\nd’identità e quindi lo SPID).Guida ai Bandi11Gli studenti che non risiedono in Italia accedono alla domanda on line \\ncon le credenziali rilasciate dall’Ateneo.\\nGli studenti che accedono alla domanda on line con le credenziali di \\nAteneo, anche se in possesso dei requisiti per richiedere l’identità digitale \\nSPID, CIE o CNS, saranno sottoposti a controlli e l’eventuale idoneità/\\nassegnazione dei benefici sarà sospesa in attesa che si concludano le \\nprocedure di identificazione. \\nPer presentare la domanda benefici non occorre la preventiva iscrizione \\nall’Università, agli Istituti dell’Alta Formazione Artistica e Musicale, alla \\nScuola Superiore per Mediatori Linguistici San Pellegrino di Rimini \\ne al CIELS Bologna, che deve comunque avvenire entro i termini di \\niscrizione previsti per accedere ai benefici, indicati nell’art. 13 della \\nSezione I - Norme Generali del Bando di concorso, pena la revoca dei \\nbenefici assegnati.\\nPer presentare domanda è indispensabile essere in possesso \\ndell’Attestazione ISEE per prestazioni agevolate per il diritto allo studio \\nuniversitario (ISEE 2024) , sottoscritta entro i termini di scadenza della \\ndomanda on line dei singoli benefici, indicati nel successivo paragrafo 5. \\nPer ottenerla ci si può rivolgere a INPS, CAF o Comune e occorre \\nrichiedere espressamente il calcolo dell’ ISEE 2024 per prestazioni \\nagevolate per il diritto allo studio universitario , rilasciato gratuitamente.\\nIn alternativa è possibile ottenere l’Attestazione ISEE per prestazioni age -\\nvolate per il diritto allo studio universitario (ISEE 2024), accedendo alla \\nDichiarazione Sostitutiva Unica (DSU) precompilata, dal Portale Unico \\nISEE https://servizi2.inps.it/servizi/PortaleUnicoIsee , direttamente o tra -\\nmite i Centri di Assistenza Fiscale (CAF).\\nAl momento della richiesta viene consegnata allo studente la RICEVUTA \\nrelativa alla presentazione della DSU (Dichiarazione Sostitutiva Unica), \\ncon l’indicazione delle modalità di ritiro dell’Attestazione ISEE (presso \\nINPS, CAF o Comune oppure all’indirizzo PEC indicato dallo studente \\nrichiedente). 12\\nGuida ai BandiSolo l’Attestazione ISEE con riportato il numero di protocollo della DSU \\nattribuito da INPS (es. INPS-ISEE-2024-XXXXXXXXX-00) conterrà il \\ncalcolo dell’ISEE e sarà disponibile fino a 10 giorni dopo la richiesta.\\nÈ importante quindi attivarsi tempestivamente per ottenere l’Attestazione \\nISEE, per prestazioni agevolate per il diritto allo studio universitario  poiché \\ndalla data della richiesta decorrono fino a 10 giorni prima di avere il \\nnumero di protocollo INPS necessario per compilare la domanda on line.\\nNon saranno accettate Attestazioni di ISEE ORDINARIO non applicabile \\na prestazioni agevolate per il diritto allo studio universitario.\\nÈ possibile presentare domanda utilizzando l’ISEE CORRENTE rilasciato \\nsulla base dell’Attestazione ISEE 2024 valida per le prestazioni per il \\ndiritto allo studio universitario. \\nLa domanda on line prevede una prima sezione dedicata ai DATI \\nPERSONALI  e una seconda sezione  dedicata all’acquisizione dei DATI \\nECONOMICI  dove occorre inserire il numero di protocollo attribuito da \\nINPS, per visualizzare in tempo reale i dati dell’Attestazione ISEE; solo \\ndopo avere compilato e confermato la prima e la seconda sezione si \\npotrà accedere al MODULO DI DOMANDA  per la richiesta dei benefici. Una \\nvolta terminata la compilazione della domanda occorre confermare i dati \\ninseriti. Una volta confermata la domanda sono previsti due percorsi \\ndiversi a seconda che lo studente abbia compilato autonomamente \\noppure si sia avvalso di un CAF:\\nA) per gli studenti che NON si avvalgono dei CAF:\\nA.1) se hanno compilato tramite identità digitale (SPID, CIE o CNS) la \\nprocedura è conclusa e la domanda è automaticamente perfezionata;\\nA.2) se hanno compilato con le credenziali rilasciate dall’Ateneo:\\n• se in domanda on line hanno indicato un indirizzo PEC (posta \\nelettronica certificata) ricevono una e-mail da ER.GO contenente la \\ndomanda on line confermata. Al fine di perfezionare la presentazione \\ndella domanda è obbligatorio rispondere a questa e-mail tramite \\nlo stesso indirizzo PEC indicato nella compilazione on line, entro i \\ntermini di scadenza;Guida ai Bandi13• se in domanda on line non hanno indicato un indirizzo PEC ricevono \\nun SMS (solo chi non dichiara un numero di cellulare, riceverà una \\ne-mail) da ER.GO contente il codice personale PIN, da inserire, \\nobbligatoriamente entro i termini di scadenza, nella domanda on line \\nconfermata, utilizzando le stesse credenziali di accesso usate per la \\ncompilazione on line.\\nB) gli studenti che si avvalgono dei CAF convenzionati con l’Azienda:\\nricevono una e-mail da ER.GO all’indirizzo di posta elettronica indicato \\nin domanda, contente il codice personale PIN. Al fine di perfezionare \\nla presentazione della domanda è obbligatorio seguire le indicazioni \\ndescritte nella mail per inserire il codice personale PIN, obbligatoriamente \\nentro i termini di scadenza.\\nNei casi A.2) e B) fino a quando lo studente non perfezionerà la domanda \\na seguito dell’acquisizione dei dati dal sistema informativo di INPS, la \\ndomanda non potrà essere valutata ai fini dell’idoneità ai benefici. È, \\nquindi, fondamentale, tenere monitorato lo stato della propria domanda.\\nLa domanda perfezionata, contenente il codice personale PIN e \\ndebitamente protocollata, sarà consultabile e scaricabile direttamente \\ndal DOSSIER UTENTE da parte del soggetto interessato, nonché \\nconservata su apposito supporto che ne assicuri integrità e inviolabilità.\\nATTENZIONE! ER.GO acquisisce automaticamente in domanda on line \\nla richiesta di esonero totale dalle tasse per tutti i richiedenti la borsa \\ndi studio. \\nER.GO collabora inoltre con gli Atenei di Bologna, Modena e Reggio \\nEmilia e Parma, acquisendo la domanda on line di parte dei benefici di \\ncompetenza universitaria, secondo le disposizioni dei bandi di concorso \\ndelle rispettive Università, ai quali si rinvia integralmente. Nello specifico \\nER.GO acquisisce:\\nPer l’Università di Bologna – ALMA MATER\\n- la domanda di Esonero no tax area e contributo in base all’ISEE. Per chi \\nrichiede esclusivamente questo beneficio è sufficiente confermare le \\nsezioni dei DATI PERSONALI e dei DATI ECONOMICI;14\\nGuida ai Bandi- la domanda di Contributo affitto. Per chi richiede esclusivamente \\nquesto beneficio occorre confermare le sezioni dei DATI PERSONALI \\ne dei DATI ECONOMICI e successivamente accedere alla sezione \\ndei moduli di domanda e seguire le indicazioni per la richiesta di \\ncontributo affitto.\\nPer l’Università degli Studi di Modena e Reggio Emilia\\n- la domanda di Esonero no tax area e contribuzione differenziata. Per \\nchi richiede esclusivamente questo beneficio occorre confermare le \\nsezioni dei DATI PERSONALI e dei DATI ECONOMICI e compilare e \\nperfezionare il modulo specifico ;\\n-  la domanda di flat tax studenti extra UE. Per chi richiede esclusivamente \\nquesto beneficio occorre confermare la sezione dei DATI PERSONALI e \\ncompilare e perfezionare il modulo specifico;\\n- la domanda di esonero per studenti con disabilità, la domanda di \\nesonero Top Student, la domanda di Collaborazioni studentesche \\nretribuite/part-time, la domanda di Collaborazioni tutorato alla pari \\nin favore di studenti con disabilità. Questi benefici possono essere \\nrichiesti all’interno del modulo di domanda on line;\\n- Il Progetto UNIMORE SPORT EXCELLENCE - Alloggio presso residenze \\nuniversitarie di ER.GO. Per chi richiede esclusivamente questo \\nbeneficio occorre compilare il modulo specifico disponibile sul sito di \\nER.GO www-er-go.it nella sezione “ESPLORA I BENEFICI - BENEFICI \\nGESTITI DA ER.GO ED EROGATI DALLE UNIVERSITÀ”.\\nPer l’Università di Parma\\n- la domanda di Contributo universitario personalizzato. Per chi richiede \\nesclusivamente questo beneficio è sufficiente confermare le sezioni \\ndei DATI PERSONALI e dei DATI ECONOMICI.\\nPer approfondimenti e per la documentazione richiesta per il calcolo \\ndell’ISEE consultare la Guida all’ISEE a.a. 2024/2025 sul sito www.\\ner-go.it.\\nSe l’Attestazione ISEE utilizzata per richiedere i benefici di ER.GO \\ncontiene ANNOTAZIONI , è necessario rivolgersi nuovamente a INPS, al \\nCAF (Centro di Assistenza Fiscale) o al Comune per sottoscrivere una Guida ai Bandi15nuova DSU completa e corretta in sostituzione di quella contenente \\nomissioni/difformità. Una volta in possesso dell’ISEE regolarizzata, \\noccorre comunicarla ad ER.GO compilando nuovamente la sezione dei \\nDATI ECONOMICI con il protocollo INPS relativo all’ISEE senza omissioni.\\nLa mancata presentazione dell’ISEE senza omissioni entro il termine \\nindicato nella mail che sarà inviata all’indirizzo di posta elettronica al \\nmomento della conferma della domanda on line comporta l’avvio del \\nprocedimento di revoca dell’idoneità ai benefici, con obbligo di produrre \\nentro un termine prefissato idonea documentazione in merito alle \\nomissioni/difformità rilevate, pena la non idoneità.\\nPer il requisito di merito , agli studenti iscritti alle Università ad anni \\nsuccessivi al primo nel modulo di domanda verranno proposti i dati \\ndella carriera universitaria presenti negli archivi dell’Università, con i \\ncrediti che risultano registrati al 10/08/2024. Gli studenti potranno poi \\naggiungere in domanda gli eventuali crediti sostenuti in data utile, che \\nnon risultino ancora registrati (es. esami Programma ERASMUS +), \\nseguendo le istruzioni proposte dal modulo. \\nQueste informazioni saranno contestualmente trasmesse alle Università \\nper le necessarie attività di verifica.\\nSi consiglia di consultare, prima della compilazione della domanda, il \\nproprio libretto elettronico per visualizzare tutti gli esami e le attività \\ndidattiche superati e registrati alla data del 10/08/2024 e concorrenti \\nalla formazione del merito per la richiesta benefici.16\\nGuida ai Bandi5. Quando presentare domanda\\nOccorre rispettare scrupolosamente le scadenze riportate nella \\nseguente tabella, perché le domande tardive non saranno prese in \\nconsiderazione:\\nBeneficio Scadenza domanda\\nBorsa di studio  per:\\n- studenti matricole ed anni successivi di \\ntutti i corsi Dal 3 luglio al 30 agosto 2024\\nAccesso agevolato al servizio ristorativo  \\nper:\\n- studenti matricole ed anni successivi di \\ntutti i corsiDal 3 luglio al 30 agosto 2024\\nEsonero totale  (per studenti che richiedono \\nanche la borsa di studio)Dal 3 luglio al 30 agosto 2024\\nAlloggio per tutti gli studenti già \\nassegnatari di posto alloggio in a.a. \\n2023/2024 (CONFERME):\\n- iscritti ad anni successivi dei corsi di \\nlaurea, laurea magistrale a ciclo unico, \\nlaurea magistrale e dei corsi di 1° e 2° \\nlivello degli Istituti AFAM;\\n- matricole dei corsi di laurea magistrale e \\ndei corsi di 2° livello degli Istituti AFAM;\\n- iscritti ai corsi di specializzazione, \\ndottorati e SPISA - primi e anni successivi\\nAlloggio per studenti NUOVI RICHIEDENTI \\na.a. 2024/2025 :\\n- iscritti ad anni successivi dei corsi di \\nlaurea, laurea magistrale a ciclo unico, \\nlaurea magistrale e ai corsi di 1° e 2° livello \\ndegli Istituti AFAM;\\n- iscritti ai corsi di specializzazione, \\ndottorato e SPISA primi anni e anni \\nsuccessiviDal 3 luglio al 9 agosto 20242\\n2  La scadenza indicata riguarda anche l’eventuale richiesta di assegnazione straordinaria \\ndi alloggio. Guida ai Bandi17Beneficio Scadenza domanda\\nAlloggio per:\\n- matricole  dei corsi di laurea e laurea \\nmagistrale a ciclo unico e dei corsi di 1° \\nlivello degli Istituti AFAM\\n- matricole  dei corsi di laurea magistrale  \\ne dei corsi di 2° livello degli Istituti AFAM \\nnuovi richiedenti a.a. 2024/2025Dal 3 luglio al 30 agosto 2024\\nContributo per mobilità internazionale Dal 3 luglio al 30 agosto 2024\\nCollaborazioni a tempo parziale ER.GO per \\nstudenti dei corsi interateneo “MUNER” e \\ndegli altri corsi interateneo  delle Università \\ndell’Emilia-Romagna, con sede in Emilia-\\nRomagnaDal 3 luglio al 30 agosto 2024\\nDisponibilità a prestare volontariato Dal 3 luglio al 30 agosto 2024\\nServizio di aiuto personale per studenti con \\ndisabilità:\\nper tutti gli studenti già assegnatari di posto \\nalloggio in a.a. 2023/2024 (CONFERME) :\\n- iscritti ad anni successivi dei corsi di \\nlaurea, laurea magistrale a ciclo unico, \\nlaurea magistrale e dei diplomi di I e II \\nlivello degli Istituti AFAM\\n- matricole dei corsi di laurea magistrale e \\ndei diplomi di II livello degli Istituti AFAM\\n- iscritti ai corsi di specializzazione, \\ndottorati e SPISA primi anni e anni \\nsuccessivi\\nper studenti NUOVI RICHIEDENTI a.a. \\n2024/2025 :\\n- iscritti ad anni successivi dei corsi di \\nlaurea, laurea magistrale a ciclo unico, \\nlaurea magistrale e ai corsi di 1° e 2° livello \\ndegli Istituti AFAM;\\n- iscritti ai corsi di specializzazione, \\ndottorato e SPISA primi anni e anni \\nsuccessiviDal 3 luglio al 9 agosto 2024\\nServizio di aiuto personale  per studenti con \\ndisabilità:\\n- matricole  dei corsi di laurea e laurea \\nmagistrale a ciclo unico e dei diplomi di I \\nlivello degli Istituti AFAM\\n- matricole  dei corsi di laurea magistrale  \\ne dei corsi di 2° livello degli Istituti AFAM \\nnuovi richiedenti a.a. 2024/2025Dal 3 luglio al 30 agosto 202418\\nGuida ai BandiBeneficio Scadenza domanda\\nAutocertificazione di domicilio3\\n(dopo la conferma della domanda di borsa \\ndi studio)Dal 3 luglio al 7 ottobre 2024\\n(prima scadenza per tutti)\\nDall’8 ottobre al 18 novembre 2024\\n(seconda scadenza per tutti)\\nInvio Contratto e/o documentazione  relativi \\nal domicilio autocertificatoEntro il 31 gennaio 2025\\nContributi straordinari Dal 1° ottobre al 1° dicembre 2024\\nContributi per studenti con disabilità Dal 20 gennaio al 5 marzo 2025\\nAssegni formativi Dall’11 settembre al 5 dicembre 2024\\nContributo per studenti fuori sede in \\nalloggio che intraprendono un tirocinio \\nformativo post lauream  in Emilia-RomagnaDal 27 gennaio al 3 marzo 2025\\n(modulo dedicato scaricabile dal \\nDossier Utente)\\nEsonero no tax area  e contributo in base \\nall’ISEE- UNIBO  Dal 6 maggio al 30 ottobre 2024\\nLa domanda può essere confermata fino \\nalle ore 18.00 del giorno di scadenza\\nDal 30 ottobre \\n(dalle ore 18.01)\\nal 15 novembre 2024 con mora di euro \\n100,00.\\nLa domanda può essere confermata fino \\nalle ore 18.00 del giorno di scadenza\\nContributo affitto  - UNIBODal 2 settembre al\\n29 novembre 2024\\nLa domanda può essere \\nconfermata fino alle ore 15.00 del \\ngiorno di scadenza\\nEsonero no tax area , contribuzione \\ndifferenziata e flat tax studenti extra UE  - \\nUNIMORE  - generalità degli studentiDal 3 luglio al 6 novembre 2024\\nLa domanda può essere confermata fino \\nalle ore 15.00 del giorno di scadenza\\nEsonero no tax area , contribuzione \\ndifferenziata e flat tax studenti extra UE  - \\nUNIMORE  - primo anno laurea magistrale e \\nprimo anno scuole di specializzazioneDal 3 luglio al 20 dicembre 2024\\nLa domanda può essere confermata fino \\nalle ore 15.00 del giorno di scadenza\\n3  Si veda la Sezione II - Borse di Studio del Bando di concorso.Guida ai Bandi19Beneficio Scadenza domanda\\n- Esonero totale per studenti con disabilità  \\nUNIMORE  (art. 3 comma 1 L. 104/1992) \\no con grado di invalidità pari o superiore \\nal 66%;\\n- Esonero parziale per studenti UNIMORE \\ncon grado di invalidità tra il 46% e il 65%Dal 3 luglio al 20 dicembre 2024\\nLa domanda può essere confermata fino \\nalle ore 15.00 del giorno di scadenza\\nEsonero totale o parziale  TOP STUDENT  \\nUNIMORE\\n- studenti iscritti al primo anno dei corsi di \\nlaurea triennale o magistrale  a ciclo unicoDal 3 luglio al 6 novembre 2024\\nLa domanda può essere confermata fino \\nalle ore 15.00 del giorno di scadenza\\nEsonero  totale o parziale TOP STUDENT  \\nUNIMORE  \\n- studenti iscritti al primo anno dei corsi di \\nlaurea magistraleDal 3 luglio al 20 dicembre 2024\\nLa domanda può essere confermata fino \\nalle ore 15.00 del giorno di scadenza\\nCollaborazioni studentesche  retribuite/part-\\ntime ( UNIMORE )Dal 3 luglio al 30 agosto 2024\\nCollaborazioni tutorato alla pari i n favore di \\nstudenti con disabilità UNIMOREDal 3 luglio al 30 agosto 2024\\nProgetto UNIMORE  SPORT EXCELLENCE\\nAlloggio presso residenze universitarie di \\nER.GO – generalità studentiDal 3 luglio al 30 agosto 2024\\nDomanda per contributo universitario \\npersonalizzato  (UNIPR )Dal 3 luglio al 4 novembre 2024\\nLa domanda può essere confermata fino \\nalle ore 17.00 del giorno di scadenza\\nIn nessun caso sono prese in considerazione domande tardive\\nLe scadenze si riferiscono sia alla conferma della domanda on line che al \\nperfezionamento tramite PEC o PIN, se necessario.\\nGli studenti che hanno redditi e/o patrimoni all’estero debbono attenersi \\nalle stesse scadenze, per l’invio tramite DOSSIER UTENTE, della relativa \\ndocumentazione, anche qualora si avvalgano dei CAF convenzionati.20\\nGuida ai Bandi6. Le Graduatorie\\nTutte le graduatorie sono pubblicate sul sito www.er-go.it  nel rispetto \\ndelle norme in materia di trasparenza / privacy e sono consultabili \\nintegralmente nel Dossier Utente.\\nServizioGraduatorie \\nprovvisorieGraduatorie \\npredefinitive\\nAlloggio  per gli studenti già \\nassegnatari di posto alloggio in a.a. \\n2023/2024 ( CONFERME ):\\n- iscritti ad anni successivi dei corsi \\ndi laurea, laurea magistrale a ciclo \\nunico, laurea magistrale e dei corsi \\ndi 1° e 2° livello degli Istituti AFAM;\\n- matricole dei corsi di laurea \\nmagistrale e dei corsi di 2° livello \\ndegli Istituti AFAM;\\n- iscritti ai corsi di specializzazione, \\ndottorati e SPISA - primi e anni \\nsuccessivi\\nAlloggio  per studenti NUOVI \\nRICHIEDENTI a.a. 2024/2025\\n- iscritti ad anni successivi dei corsi \\ndi laurea, laurea magistrale a ciclo \\nunico, laurea magistrale e ai corsi \\ndi 1° e 2° livello degli Istituti AFAM;\\n- iscritti ai corsi di specializzazione, \\ndottorato e SPISA primi anni e anni \\nsuccessivi(per tutti gli studenti \\ngià assegnatari di \\nalloggio nell’a.a. \\n2023/2024 - \\nCONFERME - è \\nredatto un unico \\nelenco in ordine \\nalfabetico)\\n26 agosto 2024(per tutti gli studenti già \\nassegnatari di alloggio \\nnell’a.a. 2023/2024- \\nCONFERME - è redatto \\nun unico elenco in \\nordine alfabetico)\\n5 settembre 2024\\nAlloggio  per:\\n- matricole  dei corsi di laurea e \\nlaurea magistrale a ciclo unico e \\ndei corsi di 1° livello degli Istituti \\nAFAM\\n- matricole dei corsi di laurea \\nmagistrale e dei corsi di 2° livello \\ndegli Istituti AFAM nuovi richiedenti \\na.a. 2024/202510 settembre 2024 20 settembre 2024\\nBorse di studio, Esonero totale  (per \\nstudenti che richiedono la borsa \\ndi studio)\\n- matricole dei corsi di laurea e \\nlaurea magistrale a ciclo unico14 ottobre 2024 4 dicembre 2024Guida ai Bandi21ServizioGraduatorie \\nprovvisorieGraduatorie \\npredefinitive\\nBorse di studio, Esonero totale (per \\nstudenti che richiedono la borsa di \\nstudio):\\n- iscritti ad anni successivi  dei corsi \\ndi laurea, laurea magistrale a ciclo \\nunico, laurea magistrale e dei diplomi \\ndi I e II livello degli Istituti AFAM;\\n- matricole dei corsi di laurea \\nmagistrale e dei diplomi di II livello \\ndegli Istituti AFAM ;\\n- primi anni e anni successivi iscritti \\nai corsi di specializzazione, dottorati \\ne SPISA28 ottobre 2024 4 dicembre 2024\\nCollaborazioni studentesche  \\nretribuite/part time UNIMORE , \\nCollaborazioni tutorato alla pari  \\nin favore di studenti con disabilità \\nUNIMORE\\nCollaborazioni a tempo parziale \\nER.GO  per studenti dei corsi \\ninterateneo “ MUNER ” e degli altri \\ncorsi interateneo  delle Università \\ndell’Emilia-Romagna, con sede in \\nEmilia-Romagna28 ottobre 2024 4 dicembre 2024\\nAssegni formativi 29 gennaio 202520 febbraio 2025 (per \\ntale beneficio trattasi di \\ngraduatorie definitive)\\nEsonero no tax area  e contribuzione \\ndifferenziata UNIMORE -  generalità \\nstudenti2 dicembre 2024 \\n20 gennaio 2025 \\nEsonero no tax area  e contribuzione \\ndifferenziata UNIMORE -  iscritti \\nal primo anno dei corsi di laurea \\nmagistrale biennale e primo anno \\nscuole di specializzazione20 gennaio 2025 17 febbraio 2025\\nEsonero TOP STUDENT e flat tax \\nstudenti extra UE UNIMORE  tutti gli \\nstudenti20 gennaio 2025 17 febbraio 2025\\nTali date possono subire variazioni dipendenti dal numero di domande presentate. Per \\ngli altri benefici vedere i paragrafi specifici e le rispettive Sezioni del Bando di concorso.\\nEventuali ricorsi avverso le graduatorie provvisorie possono essere \\npresentati esclusivamente on line entro i termini previsti dalla Sezione \\nI - Norme Generali del Bando di concorso.22\\nGuida ai Bandi7. Le borse di studio\\nAnche per l’anno accademico 2024/2025  alla copertura delle borse \\ndi studio concorrono finanziamenti statali a valere su risorse del Piano \\nNazionale di Ripresa e Resilienza, nell’ambito del finanziamento \\ndell’Unione Europea “Next Generation EU”.\\nLe risorse disponibili per l’a.a. 2024/2025  saranno distribuite nella \\nmisura del 75% agli studenti iscritti ad anni successivi al primo e del \\n25% agli studenti matricole, proporzionalmente al numero di idonei in \\nciascuna graduatoria.\\n7.1. Valore della borsa di studio\\nL’importo della borsa di studio varia in relazione alla condizione \\neconomica del nucleo famigliare e alla condizione di studente FUORI \\nSEDE, PENDOLARE e IN SEDE: \\nIntervalli di \\nvalore ISEE studenti \\nFuori sedestudenti \\nPendolaristudenti \\nIn sede\\nfino a 16.666,677.015,97 4.100,05 2.827,64\\nda 16.666,68 a 18.333,344.560,38 2.665,03 1.837,97\\nda 18.333,35 a 20.818,463.788,62 2.214,03 1.526,93\\nda 20.818,47 a 25.000,003.507,99 2.050,03 1.413,82\\nL’importo della borsa è comprensivo anche della quota eventualmente \\nconvertita in servizio ristorativo.\\nIl valore della borsa di studio per gli studenti iscritti all’ulteriore semestre \\nrispetto alla durata del corso di studio è pari alla metà degli importi sopra \\nindicati. Guida ai Bandi23Nel caso di studenti che optano per un curriculum inferiore a quello normale, \\ndove attivato, gli importi di borsa di studio sono quelli sopra riportati.\\nNel caso di studenti che optano per il regime a tempo parziale (part \\ntime), dove attivato, si vedano gli importi indicati nell’articolo 3 (Valore \\ndella borsa di studio - Casi particolari) della Sezione II - Borse di studio \\ndel Bando di concorso.\\n7.2. Valore della borsa di studio – \\nIncrementi\\nA. In caso di ISEE fino a € 12.500,00  il valore della borsa di studio è \\nincrementato del 15%. \\nB. In caso di studentesse iscritte ai corsi di studio in materie S.T.E.M. \\n(Scienze, Tecnologia, Ingegneria e Matematica) indicate nel Bando, il \\nvalore della borsa di studio è incrementato del 20%.\\nGli incrementi previsti non sono tra loro cumulabili. Se presenti entrambe \\nle condizioni, si applicherà quella più favorevole. \\nC. In caso di contemporanea iscrizione a due corsi di studio  ai sensi \\ndella L. 12 aprile 2022 e del D.M. e del D.M. 930/2022, il valore della \\nborsa di studio è incrementato del 20%.\\nPer ottenere l’incremento del 20% della borsa di studio, lo studente \\ndeve possedere, al termine dell’anno accademico, i requisiti di merito \\nprevisti dall’art. 5 del D.M. n. 1320/2021 per entrambi i corsi di studio ai \\nquali è iscritto. In particolare per il corso al quale è riferito l’incremento \\nlo studente deve possedere i requisiti di merito previsti dalla Tabella 2 \\noppure Tabella 3 (se primo anno) e dalla Tabella 6 (se anno successivo) \\ndel Bando Benefici DSU a.a. 2024/2025.\\nGli incrementi di cui alle lett. A e B sono erogati in sede di saldo della \\nborsa di studio. L’incremento di cui alla lett. C si cumula con i precedenti \\ned è erogato a partire dal mese di ottobre 2025 e comunque dopo \\nl’accertamento del possesso di tutti i requisiti previsti.24\\nGuida ai Bandi7.3. Integrazione della borsa di \\nstudio per laureati in corso nell’a.a. \\n2023/2024\\nGli studenti assegnatari di borsa di studio nell’a.a. 2023/2024 che \\nconseguono nell’ultima sessione (c.d. sessione straordinaria) dell’a.a. \\n2023/2024 o in eventuali prolungamenti la laurea, laurea magistrale o \\nlaurea magistrale a ciclo unico o i corrispondenti Diplomi accademici \\nAFAM entro la durata prevista dai rispettivi ordinamenti didattici, \\nbeneficiano di un’integrazione della borsa di studio pari a un semestre.\\nTale integrazione è riconosciuta nella forma di ulteriore semestre di \\nborsa di studio a coloro che si laureano in corso, a condizione che \\npresentino domanda e risultino idonei all’ultimo semestre di borsa di \\nstudio nell’a.a. 2024/2025 .\\nL’integrazione della borsa di studio è erogata solo in caso di disponibilità \\ndi risorse dopo avere esaurito le graduatorie di idoneità alla borsa di studio \\nper l’a.a. 2024/2025 . Solo in questo caso gli studenti che decadono \\ndall’idoneità all’ultimo semestre di borsa di studio per l’a.a. 2024/2025, \\npoiché non viene perfezionata l’iscrizione all’a.a. 2024/2025 o viene \\nannullata quella perfezionata entro i termini dell’art. 13 della Sezione \\nI - Norme Generali, maturano il diritto al semestre integrativo della borsa \\ndi studio per conseguimento della laurea in corso nell’ultima sessione \\n(c.d. sessione straordinaria) dell’a.a. 2023/2024, di valore pari a quello \\ndell’ultimo semestre di borsa di studio dell’a.a. 2024/2025.\\n7.4. Valore della borsa di studio – \\nconversione in prepagato ristorazione\\nGli studenti possono richiedere che una quota di borsa di studio sia \\nconvertita in prepagato per il servizio ristorativo. In tal caso ER.GO \\nerogherà un importo aggiuntivo, pari al 50%. Pertanto, sono individuate \\nquattro quote di borsa di studio che è possibile convertire in servizio \\nristorativo, a cui corrispondono quattro diversi contributi ER.GO:Guida ai Bandi25Importo borsa \\nconvertito in \\nservizio ristorazioneContributo ER.GOImporto complessivo di \\nprepagato per il servizio \\nristorativo\\n€ 200 € 100 € 300\\n€ 400 € 200 € 600\\n€ 500 € 250 € 750\\n€ 600 € 300 € 900\\nPer le modalità di fruizione del prepagato consultare la Sezione IV per \\nl’accesso agevolato ai servizi ristorativi del Bando di concorso.\\n7.5. Pagamento della borsa di studio\\nIl pagamento della borsa di studio avviene in quattro rate per le matricole \\ndei corsi di laurea triennale (o diplomi accademici di primo livello \\nAFAM) e di laurea magistrale a ciclo unico e in tre rate per tutti gli altri \\nstudenti secondo lo schema riportato di seguito. Le rate sono calcolate \\ncon riferimento all’importo di borsa di studio assegnato al netto degli \\neventuali incrementi che, se dovuti, saranno pagati in sede di saldo.\\nTipo Studente% importo borsa di studio assegnata  \\nerogato con la rata in pagamento\\nPrima rata Seconda rata Terza rata Quarta rata\\nSolo matricole corsi \\ndi laurea triennale (o \\ndiplomi accademici \\ndi primo livello AFAM) \\ne laurea magistrale a \\nciclo unico20% 30% 10%40%\\n(saldo ed \\neventuale \\npagamento \\nincrementi)\\nAltri studenti 50% 10%40%\\n(saldo ed \\neventuale \\npagamento \\nincrementi)//26\\nGuida ai Bandi8. Condizione di studente Fuori Sede, \\nPendolare, In Sede\\nStudenti Fuori Sede\\nPossono usufruire della borsa di studio “Fuori sede”  gli studenti che: \\nrisiedono in un Comune la cui distanza dalla sede del corso frequentato \\nsia percorribile, con i mezzi di trasporto pubblico, in un tempo superiore \\na novanta minuti (Comune di residenza non compreso né in Tabella 1 né \\nin Tabella 2 – TABELLE COMUNI IN SEDE E PENDOLARI del Bando di \\nconcorso) e che soddisfino una delle seguenti condizioni: \\n1) siano assegnatari di posto alloggio di ER.GO per almeno 10 mesi \\ncompresi nel periodo dal 16 settembre 2024 al 15 settembre 2025 ;\\n2) prendano alloggio a titolo oneroso  presso la sede universitaria frequen -\\ntata, o nelle vicinanze, purché nell’ambito dei comuni di cui alla Tabella \\n1 o Tabella 2, utilizzando le strutture residenziali pubbliche o alloggi di \\nprivati o enti, per almeno 10 mesi nell’anno accademico ( dal 1° ottobre \\n2024 al 30 settembre 2025 ). \\nGli studenti in possesso dei requisiti per essere considerati \\neconomicamente indipendenti, ai sensi dell’art. 7 punto 2 della Sezione \\nI - Norme Generali del Bando hanno titolo alla borsa di studio di importo \\nfuori sede, indipendentemente dal tempo di percorrenza tra il comune in \\ncui risiedono e la sede del corso e non sono assoggettati alle disposizioni \\nsul domicilio di cui alla Sezione II - Borse di studio del Bando.\\nGli studenti che intendano far valere la condizione di studente “Fuori \\nsede” devono: \\n- compilare il modulo on-line di autocertificazione di domicilio , dopo \\navere confermato la domanda di borsa di studio, dal 3 luglio 2024 \\nentro il termine ultimo del 18 novembre 2024 con le seguenti opzioni: le \\nautocertificazioni di domicilio compilate entro il 7 ottobre 2024 (prima \\nscadenza) saranno recepite fin dalle graduatorie provvisorie di borsa di \\nstudio; quelle compilate dall’8 ottobre al 18 novembre 2024 (seconda \\nscadenza) saranno invece recepite nelle graduatorie predefinitive di \\nborsa di studio; \\n- coloro che fossero già in possesso della documentazione relativa al \\ndomicilio oneroso o gratuito, secondo le modalità indicate nella Sezione Guida ai Bandi27II - Borse di studio del Bando, possono allegare tale documentazione in \\nfase di compilazione dell’autocertificazione di domicilio on line.\\n- chi invece non disponesse già della documentazione domiciliare da \\nallegare al modulo on line di autocertificazione di domicilio, dovrà \\ninviare ad ER.GO la documentazione relativa al domicilio indicata \\nnella Sezione II - Borse di studio del Bando entro il 31 gennaio 2025. \\nPer studenti apolidi, titolari di protezione internazionale o complementare, \\ncome definiti all’art. 2.3.5 della Sezione I - Norme Generali del Bando, \\ncon nucleo familiare non residente in Italia, il valore della borsa di \\nstudio è riconosciuto nell’importo previsto per gli studenti fuori sede, \\nindipendentemente dal luogo di residenza o domicilio.\\nStudenti Pendolari\\nPossono usufruire della borsa di studio “ Pendolare ” gli studenti che: \\nrisiedono in un Comune la cui distanza dalla sede del corso frequentato \\nsia percorribile, con i mezzi di trasporto pubblico, in un tempo compreso \\ntra 45 e 90 minuti (Comuni della Tabella 2 - TABELLE COMUNI \\nPENDOLARI del Bando di concorso).\\noppure\\nche, pur risiedendo in un comune considerato fuori sede, prendono \\ndomicilio a titolo gratuito  presso la sede universitaria frequentata, o nelle \\nvicinanze purché nell’ambito dei comuni di cui alla Tabella 1 o Tabella \\n2 per almeno 10 mesi nell’anno accademico (dal 1° ottobre 2024 al 30 \\nsettembre 2025). Anche in questo caso occorre attenersi alle modalità \\ne scadenze di presentazione dell’autocertificazione di domicilio e della \\nrelativa documentazione indicate alla voce “Studenti Fuori Sede”.\\nStudenti In Sede\\nPossono usufruire della borsa di studio “In Sede”  gli studenti che:\\nrisiedono in un comune la cui distanza dalla sede del corso frequentato \\nsia percorribile, con i mezzi di trasporto pubblico, in un tempo inferiore a \\n45 minuti, o che prendono domicilio presso la sede del corso frequentato \\no nelle vicinanze, per un periodo inferiore a 10 mesi o non prendono \\ndomicilio. 28\\nGuida ai BandiChi è domiciliato in un alloggio di sua proprietà4, o di cui risulta \\nproprietario uno dei genitori facente parte del nucleo familiare o \\ncomunque inserito nell’ISEE per prestazioni per il diritto allo studio \\nuniversitario, ai fini dell’attribuzione della borsa di studio è equiparato \\nallo studente residente presso la sede del corso frequentato.\\nSono comunque considerati In Sede gli studenti che risiedono nei \\ncomuni di cui alla Tabella 1  - TABELLE COMUNI IN SEDE del Bando \\ndi concorso.\\nAutocertificazione di domicilio\\nGli studenti interessati alla borsa di studio da “Fuori Sede” o “Pendolare” \\ndevono obbligatoriamente compilare l’autocertificazione di domicilio on-\\nline sul sito www.er-go.it dopo avere confermato la domanda di borsa \\ndi studio, nel periodo dal 3 luglio 2024 al entro il termine ultimo del 18 \\nnovembre 2024 con le seguenti opzioni: le autocertificazioni di domicilio \\ncompilate entro il 7 ottobre 2024 (prima scadenza) saranno recepite \\nfin dalle graduatorie provvisorie di borsa di studio; quelle compilate \\ndall’8 ottobre al 18 novembre 2024 (seconda scadenza) saranno invece \\nrecepite nelle graduatorie predefinitive di borsa di studio. \\nL’autocertificazione di domicilio è temporaneamente sostitutiva \\ndella documentazione relativa al domicilio oneroso o gratuito che \\ndeve pervenire ad ER.GO nelle sedi territoriali di riferimento, tramite \\nDossier Utente  nella sezione documenti da inviare/inviati all’Azienda \\noppure tramite PEC entro il 31 gennaio 2025 . In alternativa \\nla documentazione può essere inviata tramite  posta mediante \\nraccomandata con ricevuta di ritorno (fa fede il timbro postale di \\npartenza)  ai seguenti indirizzi:\\nBologna e Romagna  Via Schiavonia 3/A - 40121 Bologna\\nFerrara , c/o Residenza Santa Lucia Via Ariosto 35 - 44121 Ferrara\\nModena e Reggio Emilia , Via Vignolese 671/1 - 41125 Modena\\nParma , Vicolo Grossardi, 4 - 43125 Parma\\n4  Fanno eccezione gli studenti in possesso dei requisiti per essere considerati \\neconomicamente indipendenti, ai sensi dell’art. 7 punto 2 della Sezione I - Norme \\nGenerali del Bando, che hanno comunque titolo alla borsa di studio di importo fuori sede.Guida ai Bandi29Non sono soggetti a tale disposizione gli studenti che hanno allegato la \\ndocumentazione relativa al domicilio oneroso o gratuito all’autocertificazione \\ndi domicilio on line entro la scadenza del 18 novembre 2024.\\nER.GO sottopone a controllo tutta la documentazione presentata per \\ncomprovare il domicilio oneroso o gratuito.\\nSe dai controlli effettuati è accertata la falsità delle dichiarazioni \\nrese, ER.GO revoca la borsa di studio, recuperando le somme già \\nversate, e commina una sanzione di importo triplo rispetto a quello \\npercepito, in conformità all’art. 10 del Decreto legislativo n. 68/2012.\\nER.GO si riserva di effettuare sulla documentazione di domicilio a titolo \\noneroso risultata completa e regolare controlli a campione volti ad \\naccertare l’effettivo pagamento del canone/affitto dovuto, richiedendo \\nidonei documenti giustificativi (es. ricevute, copia delle disposizioni \\ndi pagamento, ecc.). Tale controllo sarà effettuato sul 100% degli \\nstudenti domiciliati presso Residence, affittacamere, B&B e simili.\\nDocumentazione domicilio A TITOLO ONEROSO:\\n1) nel caso in cui lo studente sia intestatario di un contratto di \\nlocazione ad uso abitativo deve presentare copia del contratto \\nregistrato dall’Agenzia delle Entrate;\\n2) nel caso in cui lo studente sia domiciliato in un immobile \\ndel quale non sia intestatario di un contratto di locazione ad \\nuso abitativo dovrà presentare, oltre a una copia del contratto \\noriginario, il subentro o cessione o sublocazione del contratto, che \\ndovranno essere attestati con la scrittura privata datata e firmata \\ndi cessione o subentro o del contratto di sublocazione e la loro \\nregolare registrazione all’Agenzia delle Entrate. \\nPoiché il contratto deve essere regolarmente registrato occorre \\nallegare anche la ricevuta dell’avvenuto versamento dell’imposta \\ndi registro per l’anno accademico in corso (MODELLO F24 ELIDE, \\nMODELLO RLI 12 o altro modello stabilito dall’Agenzia delle Entrate). \\nNel caso di opzione per la cedolare secca, andrà presentata la \\ndocumentazione dell’Agenzia delle Entrate che attesti la validità \\ndell’opzione per l’anno in corso. Qualora il contratto inviato entro \\nil 31 gennaio 2025 scada dopo tale data senza coprire il periodo 30\\nGuida ai Bandidi 10 mesi, lo studente deve presentare il regolare rinnovo o un \\nnuovo contratto registrato. I modelli di registrazione del contratto \\no del subentro devono essere sempre accompagnati dal contratto \\no dalla scrittura privata di subentro originario datata e firmata dai \\ncontraenti, altrimenti saranno ritenuti documentazione incompleta.\\n3) Gli studenti domiciliati presso Residence, affittacamere, B&B \\ne simili, devono produrre la conferma della prenotazione e del \\npagamento online della camera, oltre ad una scrittura privata del \\ngestore/proprietario, che precisi la data di inizio e fine permanenza \\n(non inferiore a 10 mesi nel periodo dall’1/10/2024 al 30/09/2025) \\ne l’affitto mensilmente pagato.\\n4) Gli studenti che partecipano al programma di mobilità sono tenuti \\na inviare il contratto estero. Qualora il contratto abbia una durata \\ninferiore a 10 mesi (nel periodo dall’1/10/2024 al 30/09/2025) gli \\nstudenti dovranno presentare un ulteriore contratto relativo al periodo \\ndi prolungamento della permanenza all’estero per programma di \\nmobilità, al fine di documentare almeno 10 mesi. In alternativa, se \\nnon prolungano il programma di mobilità, dovranno documentare \\nil domicilio a titolo oneroso ai sensi del comma 12 del presente \\narticolo, per il periodo necessario a raggiungere almeno i 10 mesi.\\nDisposizioni particolari in caso di contratto pluriennale registrato \\ncon opzione cedolare secca, già trasmesso ad ER.GO negli anni \\naccademici precedenti\\nGli studenti iscritti ad anni successivi al primo con contratto pluriennale \\nregistrato con opzione per la cedolare secca, già trasmesso ad \\nER.GO negli anni accademici precedenti e in corso di validità, non \\ndevono presentare l’autocertificazione di domicilio, né produrre \\ndocumentazione ai sensi della Sezione II - Borse di studio del Bando, \\nse confermano lo stesso domicilio per l’a.a. 2024/2025 . Devono \\ncomunque comunicare on line tale conferma. Viceversa, in caso di \\ncontratto scaduto o di variazione del domicilio per l’a.a. 2024/2025 , \\ndevono presentare l’autocertificazione di domicilio e produrre \\ndocumentazione ai sensi della Sezione II - Borse di studio del Bando.\\nDisposizioni particolari in caso di contratto pluriennale registrato \\nsenza opzione cedolare secca, già trasmesso ad ER.GO negli anni \\naccademici precedentiGuida ai Bandi31Gli studenti iscritti ad anni successivi al primo con contratto pluriennale \\nregistrato senza opzione cedolare secca, già trasmesso ad ER.GO \\nnegli anni accademici precedenti, che mantengono lo stesso domicilio \\nper l’a.a. 2024/2025, confermano i dati nell’autocertificazione e non \\ndevono produrre documentazione ai sensi della Sezione II - Borse \\ndi studio del Bando. Devono tuttavia essere in possesso del modello \\ndell’Agenzia delle Entrate che conferma il pagamento dell’ultima \\nimposta annuale di registro dovuta, in quanto ER.GO potrà richiedere \\nin corso d’anno idonea documentazione attestante la validità del \\ncontratto per l’a.a. 2024/2025. Viceversa, in caso di contratto \\nscaduto o di variazione del domicilio per l’a.a. 2024/2025, devono \\ninserire nell’autocertificazione di domicilio i dati aggiornati e produrre \\ndocumentazione ai sensi della Sezione II - Borse di studio del Bando.\\nDocumentazione domicilio A TITOLO GRATUITO:\\n1) nel caso in cui lo studente sia domiciliato a titolo gratuito, sarà \\nnecessario presentare un contratto registrato di comodato a titolo \\ngratuito;\\n2) nel caso in cui il contratto di comodato presentato nell’a.a. \\n2023/2024 sia scaduto, lo studente deve presentate una \\ndichiarazione scritta del proprietario dell’immobile, corredata dalla \\nfotocopia di un documento di identità di quest’ultimo, attestante la \\npermanenza dello studente interessato anche per l’a.a. 2024/2025 , \\ncon specificate le date di inizio e fine ospitalità;\\n3) nel caso in cui il contratto di comodato presentato nell’a.a. \\n2023/2024 sia a tempo indeterminato, o della durata del percorso di \\nstudi dello studente, lo studente deve presentare una dichiarazione \\nscritta del proprietario dell’immobile, corredata dalla fotocopia di \\nun documento di identità di quest’ultimo, attestante la permanenza \\ndello studente interessato durante l’a.a. 2024/2025 , con specificate \\nle date di inizio e fine ospitalità.\\nN.B. Per evitare omissioni o dati incompleti, si raccomanda di utilizzare \\nla modulistica ER.GO disponibile nella sezione MODULISTICA del \\nDOSSIER UTENTE.\\nNel pieno rispetto delle normative vigenti, ER.GO si riserva la facoltà \\ndi accettare altra documentazione purché debitamente certificata.32\\nGuida ai BandiPer ogni dubbio o esigenza di precisazioni consultare il Bando di \\nconcorso o contattare ER.GO tramite il servizio di mail ticketing SCRIVI; \\nè anche presente, nella parte finale della presente Guida al Bando, \\nun’Appendice/Glossario della terminologia tecnica relativa ai contratti.\\n9. I requisiti economici\\nLa condizione economica dello studente è valutata in base a ISEE \\n(Indicatore della Situazione Economica Equivalente) ed ISPE \\n(Indicatore della Situazione Patrimoniale Equivalente), due indicatori \\nche tengono conto della composizione del nucleo familiare, dei redditi \\ne dei patrimoni posseduti dalla famiglia. La normativa vigente in materia \\ndi ISEE prevede un ISEE specifico per le prestazioni per il diritto allo \\nstudio universitario . Di norma, in presenza di genitori conviventi con \\nlo studente richiedente, l’ISEE per prestazioni per il diritto allo studio \\nuniversitario coincide con l’ISEE ORDINARIO; in tal caso l’Attestazione \\nISEE deve specificare che si applica alle prestazioni agevolate per \\nil diritto allo studio universitario in favore dello studente interessato. \\nIn presenza di diverse situazioni si rimanda alla consultazione della \\nSezione I - Norme Generali del Bando di concorso a.a. 2024/2025 e \\ndella Guida all’ISEE a.a. 2024/2025 .\\nStudente indipendente\\nIn presenza di genitori non conviventi con lo studente che fa \\nrichiesta dell’Attestazione ISEE per prestazioni per il diritto allo studio \\nuniversitario, il richiedente medesimo fa parte del nucleo familiare \\ndei genitori, a meno che non ricorrano entrambi i seguenti requisiti, \\nnel qual caso lo studente si definisce indipendente e non si tiene \\nconto della situazione della famiglia d’origine, ma del nuovo nucleo \\nfamiliare:\\na) residenza fuori dall’unità abitativa della famiglia di origine, da \\nalmeno due anni rispetto alla data di presentazione della dichiarazione \\nsostitutiva unica, in alloggio non di proprietà di un suo membro5;\\n5  Che pertanto utilizza un alloggio a titolo oneroso documentabile.Guida ai Bandi33b) redditi dello studente, da lavoro dipendente o assimilati e/o da lavoro \\nautonomo, fiscalmente dichiarati, da almeno 2 anni, non inferiori a € \\n9.000,00 annui.\\nc) Se lo studente è coniugato o convivente in regime di convivenza \\ndi fatto (art. 1 comma 36 L. 76/2016) registrata presso il Comune di \\nresidenza, si fa riferimento al nuovo nucleo familiare, solo se possiede i \\nrequisiti di residenza (lett. a) e laddove la soglia per l’adeguatezza della \\ncapacità di reddito (lett. b) sia raggiunta, tenendo conto anche o solo \\ndei redditi del coniuge dello studente universitario o del convivente in \\nregime di convivenza di fatto (art. 1 comma 36 L. 76/2016) registrata \\npresso il Comune di residenza. In tal caso, per la valutazione della \\nsoglia di adeguatezza della capacità di reddito, possono essere \\nconsiderati i redditi del coniuge o del convivente dei due anni \\nprecedenti, anche se nei due anni precedenti lo studente non era \\nancora sposato o convivente in regime di convivenza di fatto (art. 1 \\ncomma 36 L. 76/2016) registrata presso il Comune di residenza.\\nLe regole dei coniugi, ai sensi della normativa vigente (L. 20 maggio \\n2016, n. 76), si applicano anche ad ognuna delle parti dell’unione \\ncivile tra persone dello stesso sesso.\\nd) Solo per lo studente iscritto a corsi di dottorato di ricerca, il nucleo \\nfamiliare è formato esclusivamente dal richiedente i benefici, dal \\nconiuge, dai figli minori di anni 18 e dai figli maggiorenni, secondo le \\nregole di cui ai commi da 2 a 5 dell’art. 3 del DPCM 5 dicembre 2013, \\nn. 159. In tal caso l’ISEE è calcolato sul cosiddetto nucleo familiare \\nristretto ed è riportato in apposita sezione dell’Attestazione ISEE. È \\ncomunque fatta salva la possibilità per il richiedente i benefici iscritto \\na corsi di dottorato, di costituire il nucleo familiare secondo le regole \\nordinarie di cui all’art. 3 del DPCM 5 dicembre 2013, n. 159. In tal \\ncaso si fa riferimento all’ISEE ORDINARIO dell’Attestazione.\\nLo studente che, pur vivendo separato dal nucleo familiare d’origine, \\nnon sia in possesso di tutti i requisiti sopra indicati, non è considerato \\nindipendente, ma facente parte del nucleo familiare dei genitori e \\ndeve compilare il modulo di domanda con riferimento al calcolo ISEE \\nche in questo caso include la sua famiglia di origine. Ai fini della \\ndeterminazione della condizione di studente in sede , pendolare  o fuori \\nsede si fa riferimento alla residenza del nucleo familiare di origine.34\\nGuida ai Bandi10. I requisiti di merito\\nI requisiti di merito sono valutati sulla base dell’anno di prima \\nimmatricolazione assoluta all’Università.\\nLe matricole dei corsi di laurea triennale e di laurea magistrale a ciclo \\nunico\\n> accedono alla borsa di studio ed ottengono la prima e la seconda rata \\nsolo sulla base del requisito di condizione economica e patrimoniale,\\n> devono conseguire specifici requisiti di merito per ottenere la terza \\nrata e la quarta rata (saldo) e per mantenere l’assegnazione della borsa \\ndi studio e non restituire le rate già percepite in denaro e servizi. Le \\nmatricole senza requisito al 30/11/ 2025 perdono il diritto al rimborso \\ndella tassa regionale.\\nI crediti conseguiti non devono essere inferiori a:\\nTipo di corsoRequisito di \\naccesso per \\nerogazione \\nI e II rata \\nborsaRequisito al \\n28/02/2025 \\nper erogazione \\nIII rata borsa*Requisito al \\n10/08/2025 \\nper erogazione \\nIV rata (saldo) \\nborsaRequisito al \\n30/11/2025 \\nper conferma \\nassegnazione borsa \\ne non restituzione le \\nrate già percepite\\nLaurea \\ntriennale, \\nmagistrale a \\nciclo unicoCondizione \\neconomica9 crediti – \\nbonus non \\nprevisto25 crediti con \\npossibilità di \\nusare fino a \\n5 crediti di \\nbonus20 crediti – bonus \\nnon previsto\\n* Gli studenti che conseguono i CFU previsti per la seconda rata dopo il 28/02/2025 \\notterranno la terza rata insieme alla quarta rata (saldo), una volta raggiunto il merito per \\nl’erogazione del saldo al 10/08/2025.\\nLe matricole dei corsi di laurea magistrale\\n> accedono alla borsa di studio ed ottengono la prima rata solo sulla \\nbase del requisito di condizione economica e patrimoniale,\\n> devono conseguire specifici requisiti di merito per ottenere la seconda \\nrata e la terza rata (saldo) e per mantenere l’assegnazione della borsa \\ndi studio e non restituire le rate già percepite in denaro e servizi. Le Guida ai Bandi35matricole senza requisito al 30/11/ 2025 perdono il diritto al rimborso \\ndella tassa regionale.\\nI crediti conseguiti non devono essere inferiori a:\\nTipo di corsoRequisito di \\naccesso per \\nerogazione I \\nrata borsaRequisito al \\n28/02/2025 \\nper erogazione \\nII rata borsa*Requisito al \\n10/08/2025 \\nper erogazione \\nIII rata (saldo) \\nborsaRequisito al \\n30/11/2025 \\nper conferma \\nassegnazione borsa \\ne non restituzione  \\nI e II rata\\nLaurea \\ntriennale, \\nmagistrale a \\nciclo unicoCondizione \\neconomica9 crediti – \\nbonus non \\nprevisto25 crediti con \\npossibilità di \\nusare fino a 5 \\ncrediti di bonus20 crediti – bonus \\nnon previsto\\nLaurea \\nmagistraleCondizione \\neconomica9 crediti – \\nbonus non \\nprevisto30 crediti con \\npossibilità di \\nusare il bonus \\nnon utilizzato in \\nprecedenza20 crediti – bonus \\nnon previsto\\n* Gli studenti che conseguono i CFU previsti per la seconda rata dopo il 28/02/2025 \\notterranno la seconda rata insieme alla terza rata (saldo), una volta raggiunto il merito per \\nl’erogazione del saldo al 10/08/2025.\\nGli studenti iscritti ad anni successivi  devono conseguire distinti requisiti \\ndi merito per:\\n> accedere alla borsa di studio ed ottenere la prima rata,\\n> ottenere la seconda rata,\\n> confermare l’assegnazione della borsa di studio ed ottenere la terza \\nrata (saldo). In caso di mancata conferma della borsa di studio, la borsa \\nè revocata e occorre restituire le rate già percepite in denaro e servizi. \\nGli studenti iscritti ad anni successivi senza requisito al 10/08/2025 \\nmantengono il diritto al rimborso della tassa regionale.36\\nGuida ai BandiI crediti conseguiti non devono essere inferiori a:\\nPer le lauree triennali\\nAnno di corsoRequisito di \\naccesso al \\n10/08/2024 \\nper \\nerogazione I \\nrata borsaRequisito al \\n28/02/2025 per \\nerogazione II rata \\nborsa**Requisito al \\n10/08/2025 \\nper conferma \\nassegnazione borsa \\ned erogazione III \\nrata (saldo)\\nSecondo (prima \\niscrizione a.a. \\n2023/2024)25 crediti  50 crediti 80 crediti\\nTerzo (prima iscrizione \\na.a. 2022/2023)80 crediti 100 crediti 135 crediti\\nUlteriore semestre \\n(prima iscrizione a.a. \\n2021/2022)135 creditiLa seconda rata \\nè erogata previa \\nverifica del mancato \\nconseguimento \\ndella laurea in corso \\nprima della sessione \\nstraordinaria a.a. \\n2023/2024Non previstoGuida ai Bandi37Per le lauree magistrali a ciclo unico \\nAnno di corsoRequisito di \\naccesso al \\n10/08/2024 \\nper \\nerogazione I \\nrata borsaRequisito al \\n28/02/2025 per \\nerogazione II rata \\nborsa**Requisito al \\n10/08/2025 \\nper conferma \\nassegnazione borsa \\ned erogazione III \\nrata (saldo)\\nSecondo\\n(prima iscrizione a.a. \\n2023/2024)25 crediti 50 crediti 80 crediti\\nTerzo\\n(prima iscrizione a.a. \\n2022/2023)80 crediti 100 crediti 135 crediti\\nQuarto\\n(prima iscrizione a.a. \\n2021/2022)135 crediti 160 crediti 190 crediti\\nQuinto\\n(prima iscrizione a.a. \\n2020/2021)190 crediti 215 crediti 245 crediti\\nUlteriore semestre\\n(prima iscrizione a.a. \\n2019/2020)245 creditiLa seconda rata \\nè erogata previa \\nverifica del mancato \\nconseguimento \\ndella laurea in corso \\nprima della sessione \\nstraordinaria a.a. \\n2023/2024Non previsto\\nSesto (solo Medicina)\\n(prima iscrizione a.a. \\n2019/2020)245 crediti 270 crediti 300 crediti\\nUlteriore semestre per \\nMedicina\\n(prima iscrizione a.a. \\n2018/2019)300 creditiLa seconda rata \\nè erogata previa \\nverifica del mancato \\nconseguimento \\ndella laurea in corso \\nprima della sessione \\nstraordinaria a.a. \\n2023/2024Non previsto38\\nGuida ai BandiPer le lauree magistrali\\nAnno di corsoRequisito di \\naccesso al \\n10/08/2024 \\nper erogazione \\nI rata borsaRequisito al \\n28/02/2025 per \\nerogazione II rata \\nborsa**Requisito al \\n10/08/2025 \\nper conferma \\nassegnazione borsa \\ned erogazione III \\nrata (saldo)\\nSecondo\\n(prima iscrizione a.a. \\n2023/2024)30 crediti 50 crediti 80 crediti\\nTerzo\\n(prima iscrizione a.a. \\n2022/2023)80 creditiLa seconda rata \\nè erogata previa \\nverifica del mancato \\nconseguimento \\ndella laurea in corso \\nprima della sessione \\nstraordinaria a.a. \\n2023/2024Non previsto\\n** Il merito al 28/02/2025 si intende assolto solo in presenza di almeno 9 CFU conseguiti \\ndopo il 10 agosto 2024.\\nGli studenti che conseguono i CFU previsti per la seconda rata dopo il 28/02/2025 \\notterranno la seconda rata insieme alla terza rata (saldo), una volta raggiunto il merito di \\nconferma al 10/08/2025.\\nGli studenti iscritti a percorsi brevi oppure a tempo parziale devono \\nconsultare le specifiche tabelle a loro dedicate nel bando di concorso. \\nGli studenti iscritti ai corsi degli Istituti dell’Alta Formazione Artistica \\ne Musicale e degli Istituti Superiori di Grado Universitario devono \\nconsultare le specifiche tabelle a loro dedicate nel bando di concorso.\\nSi rinvia al bando di concorso anche per i criteri di valutazione dei \\nrequisiti di merito per i diversi corsi di studio.Guida ai Bandi39BONUS\\nIl bonus è una dotazione di crediti aggiuntivi utilizzabili per raggiungere \\nil livello di merito minimo richiesto per accedere ai benefici dell’anno \\nal quale lo studente intende iscriversi e va richiesto in fase di \\ncompilazione della domanda on line. Può essere utilizzato anche per \\nconfermare la borsa di studio dell’anno al quale lo studente è iscritto.\\nIl bonus, se non utilizzato, si incrementa secondo questo schema:\\n- al termine del primo anno: 5 crediti\\n- al termine del secondo anno: 12 crediti\\n- al termine del terzo anno: 15 crediti\\nSe il bonus viene utilizzato perde la possibilità di incremento e negli \\nanni successivi può essere utilizzato solo l’eventuale residuo. Il bonus \\nmaturato e non fruito nel corso di laurea di primo livello può essere \\nutilizzato nel corso di laurea di secondo livello. Il bonus utilizzato \\nnegli accademici antecedenti non può essere conteggiato nell’anno \\naccademico successivo. Ad esempio uno studente che si iscrive al \\nsecondo anno di una laurea di primo livello o laurea magistrale a \\nciclo unico, ha a disposizione un bonus di 5 punti; se ha maturato 23 \\ncrediti e utilizza 2 punti bonus per arrivare al requisito richiesto di 25 \\ncrediti, gli restano 3 punti bonus che potrà usare nel corso degli anni \\nsuccessivi. I suoi crediti effettivi restano comunque 23. Se utilizza il \\nbonus invece per la prima volta al momento dell’iscrizione al terzo \\nanno, ha a disposizione 12 punti; qualora gliene occorrano solo 6, \\npotrà utilizzare i restanti 6 punti nel corso dei suoi studi successivi.\\nRICONOSCIMENTI\\nSono previsti criteri particolari per la valutazione del merito in caso di:\\n- riconoscimento di attività formative a seguito di rinuncia o \\ndecadenza dagli studi o frequenza di corsi singoli o master;\\n- riconoscimento di attività formative/esami per studenti internazionali \\nche hanno frequentato periodi di studio all’estero;\\n- riconoscimento di attività formative/esami per studenti che passano \\no si trasferiscono da corsi di laurea a corsi di laurea magistrale a ciclo \\nunico; per i laureati che chiedono l’abbreviazione di corso, nella laurea \\nMagistrale a ciclo unico.\\nPer ogni dubbio o esigenza di precisazioni consultare il bando di \\nconcorso o contattare ER.GO tramite il servizio di mail ticketing SCRIVI.40\\nGuida ai Bandi11. Modalità di riscossione degli \\ninterventi economici\\nIl pagamento degli interventi economici avviene con le seguenti \\nmodalità:\\n- tramite accredito su un conto corrente intestato allo studente. Qualora \\nil codice IBAN indicato dallo studente risulti errato o incompleto, la \\ncommissione applicata dalla Banca Tesoreria per interventi a fronte \\ndi istruzioni non corrette (attualmente ammontante a € 11,00) sarà \\naddebitata allo studente;\\n- tramite bonifico sul codice IBAN associato a carte ricaricabili prepagate \\nnominative intestate allo studente;\\n- su carta ricaricabile prepagata nominativa (offerta dall’Istituto Tesoriere \\ne non associata all’apertura di un conto corrente), senza alcun onere \\na carico del beneficiario. L’erogazione delle rate di borsa di studio \\nverrà effettuata con bonifico bancario sul codice IBAN della carta. La \\ncomunicazione del codice IBAN dovrà essere effettuata dallo studente \\naccedendo al DOSSIER UTENTE, presente sul nostro sito www.er-go.it, \\ne selezionando il Menù “Comunicazione coordinate bancarie”.\\nNon verranno accettati, quale modalità di riscossione, IBAN internazionali \\nextra SEPA.\\nPer ciascun pagamento lo studente riceverà apposito avviso sul \\nDOSSIER UTENTE, presente sul nostro sito www.er-go.it. \\n12. Revoca dei benefici\\nSi dispone la revoca  dei benefici in caso di:\\na) accertamento della mancanza dei requisiti di idoneità all’accesso \\n(vedi Cause di esclusione e decadenza di cui all’art. 2.2. della Sezione \\nI - Norme Generali del Bando di concorso);\\nb) mancato conseguimento del merito di conferma della borsa di studio al \\n10/08/ 2025 per gli studenti di anni successivi al primo dei corsi di primo \\ne secondo livello e al 30/11/ 2025 per le matricole dei corsi di primo e \\nsecondo livello. Mancata regolarizzazione dell’iscrizione all’anno di corso \\nsuccessivo per gli studenti iscritti ai corsi di terzo livello (specializzazione Guida ai Bandi41e dottorato). Non devono acquisire il merito di conferma gli studenti \\ncon invalidità almeno pari al 66% o con disabilità riconosciuta ai sensi \\ndell’art. 3 comma 1 L. 104/1992, gli studenti iscritti all’ulteriore semestre \\ndei corsi di primo e secondo livello, gli studenti iscritti all’ultimo anno dei \\ncorsi di terzo livello. Per ogni informazione ulteriore vedere gli artt. 8 e \\nseguenti della Sezione I - Norme Generali del Bando di concorso.\\nIn caso di revoca dei benefici, lo studente deve restituire le somme percepite \\nper borsa di studio e altri interventi in denaro e il valore dei servizi goduti, \\ncon ricadute sui benefici associati, come sintetizzato in tabella:\\nBeneficioNO requisiti \\ndi idoneità \\nall’accesso - \\ntutti gli studentiNO merito di \\nconferma al \\n10/08/2025 - \\nanni successiviNO merito di \\nconferma al \\n30/11/2025 - \\nmatricoleNO iscrizione \\na.a. successivo \\ndottorandi e \\nspecializzandi\\nBorsa di \\nstudioRESTITUISCE \\nLE SOMME \\nPERCEPITERESTITUISCE \\nLE SOMME \\nPERCEPITERESTITUISCE \\nLE SOMME \\nPERCEPITERESTITUISCE \\nLE SOMME \\nPERCEPITE\\nContributo \\nmobilità \\ninternazionaleRESTITUISCE \\nLE SOMME \\nPERCEPITERESTITUISCE \\nLE SOMME \\nPERCEPITERESTITUISCE \\nLE SOMME \\nPERCEPITERESTITUISCE \\nLE SOMME \\nPERCEPITE\\nPrepagato \\nmensa idonei \\nborsaRESTITUISCE \\nL’INTERO \\nIMPORTORESTITUISCE \\nL’INTERO \\nIMPORTORESTITUISCE \\nL’INTERO \\nIMPORTORESTITUISCE \\nL’INTERO \\nIMPORTO\\nAlloggio \\ncon retta da \\nidoneoDEVE LA RETTA \\nDA IDONEO \\nINTEGRATA \\nCON TARIFFA \\nDA OSPITE A \\nDECORRERE \\nDALLA DATA DI \\nASSEGNAZIONE \\nDELL’ALLOGGIOMANTIENE \\nLA RETTA DA \\nIDONEOMANTIENE \\nLA RETTA DA \\nIDONEOMANTIENE \\nLA RETTA DA \\nIDONEO\\nRimborso \\ntassa \\nregionale  \\nper il DSUPERDE IL \\nDIRITTO AL \\nRIMBORSOMANTIENE IL \\nDIRITTO AL \\nRIMBORSOPERDE IL \\nDIRITTO AL \\nRIMBORSOPERDE IL \\nDIRITTO AL \\nRIMBORSO\\nEsonero totale \\ncontribuzione \\nuniversitariaPERDE IL \\nDIRITTO \\nALL’ESONEROMANTIENE \\nIL DIRITTO \\nALL’ESONEROPERDE IL \\nDIRITTO \\nALL’ESONEROPERDE IL \\nDIRITTO \\nALL’ESONERO\\nPer le modalità di restituzione dei benefici si rinvia all’art. 5 della \\nSezione I - Norme Generali del Bando di concorso.\\n4142\\nGuida ai Bandi13. I servizi residenziali\\nER.GO offre presso le residenze delle sedi territoriali di Bologna, Cesena, \\nFerrara, Forlì, Modena, Parma, Ravenna, Reggio Emilia e Rimini soluzio -\\nni abitative diversificate per tipologia, collocazione, servizi offerti, rette/\\ntariffe, per le quali si rinvia al sito www.er-go.it .\\nLe modalità di accesso sono:\\na. accesso da graduatoria , rivolto agli studenti fuori sede in possesso dei \\nprevisti requisiti di condizioni economiche e di merito, per soddisfare \\nla domanda di permanenza presso le diverse sedi degli Atenei per un \\nperiodo continuativo coincidente con l’anno accademico. Per le tariffe \\nmensili consultare le apposite TABELLE RETTE E TARIFFE SERVIZI \\nRESIDENZIALI del Bando di concorso (Tab. 1).\\nb. accesso agevolato  rivolto, agli studenti fuori sede iscritti a corsi di \\nstudio che rilasciano titoli doppi o multipli o congiunti provenienti dal-\\nl’Ateneo partner all’estero che trascorrono un periodo di studio presso \\nle sedi di ER.GO ed agli studenti iscritti ai corsi degli Istituti Tecnici \\nSuperiori (ITS) o ad altri studenti fuori sede nell’ambito di specifiche \\nconvenzioni stipulate con ER.GO. Per le tariffe mensili consultare le \\napposite TABELLE RETTE E TARIFFE SERVIZI RESIDENZIALI del \\nBando di concorso (Tab. 3); \\nc.  libero accesso , rivolto a studenti, ricercatori e neolaureati, per \\nsoddisfare la domanda di permanenza breve ed occasionale. Non \\nè richiesto alcun requisito di merito e di condizioni economiche. Per \\nle tariffe mensili consultare le apposite TABELLE RETTE E TARIFFE \\nSERVIZI RESIDENZIALI del Bando di concorso (Tab. 2).\\nLa gestione dei posti disponibili nelle diverse residenze per il libero ac -\\ncesso (ospitalità temporanea) avviene attraverso il  BORSINO delle offerte \\ndi alloggio sul sito www.er-go.it , alla voce Esplora i benefici - sezione \\nAlloggio - Vetrina Alloggi, dove gli ospiti possono consultare il borsino \\ndelle offerte e prenotare per durate brevi e occasionali. Per maggior in -\\nformazioni, si rinvia al Regolamento delle Residenze.\\nIl servizio abitativo è destinato prioritariamente agli aventi diritto da \\ngraduatoria. Guida ai Bandi43L’assegnazione dell’alloggio decorre dal momento di effettiva \\nassegnazione, a partire dal mese di settembre 2024, fino al 15 settembre \\n2025 fatti salvi i periodi di chiusura natalizia ed estiva delle residenze.\\nPer gli studenti già assegnatari di alloggio nell’a.a. 2023/2024 idonei \\nnell’elenco unico delle conferme dell’a.a. 2024/2025  pubblicato a \\nseguito della valutazione dei ricorsi, l’assegnazione dell’alloggio procede \\nsenza soluzione di continuità rispetto al precedente anno accademico.\\nGli studenti in graduatoria che, per indisponibilità di posti, non siano \\nstati convocati per l’assegnazione dell’alloggio con lettera inviata entro il \\n30 settembre 2024, potranno presentare l’autocertificazione di domicilio \\nai fini della borsa di studio fuori sede entro il 18 novembre 2024.\\nL’assegnazione di un alloggio presso le residenze universitarie di ER.GO \\noffre la possibilità di partecipare ad attività di volontariato, laboratori \\nartistici, incontri di orientamento al lavoro, oltre al supporto di interventi \\nquali il servizio di ascolto e di aiuto nello studio. \\nPer gli studenti beneficiari del posto alloggio è possibile accedere dal \\nDOSSIER UTENTE alla sezione ABITARE ER.GO per servizi dedicati \\nall’abitare in studentato come ad esempio:\\n- generare / visualizzare credenziali wifi;\\n- chiedere il trasferimento di posto alloggio;\\n- chiedere l’ospitalità estiva;\\n- chiedere l’ospitalità notturna;\\n- chiedere l’ospitalità natalizia.\\nPer ogni dubbio o esigenza di precisazioni consultare il bando di \\nconcorso o contattare ER.GO tramite il servizio di mail ticketing \\nSCRIVI.44\\nGuida ai Bandi14. Accesso agevolato al servizio \\nristorativo\\nIl servizio ristorativo è aperto a tutti gli studenti.\\nGli studenti assegnatari di borsa di studio possono richiedere, \\ncontestualmente alla domanda di borsa di studio, che una quota di \\nborsa sia convertita in prepagato per il servizio ristorativo. In tal caso \\nER.GO erogherà un importo aggiuntivo, pari al 50%. Pertanto, sono \\nindividuate quattro quote di borsa di studio che è possibile convertire in \\nservizio ristorativo, a cui corrispondono quattro diversi contributi ER.GO:\\nImporto borsa convertito in \\nservizio ristorazioneContributo ER.GOImporto complessivo di prepagato per \\nil servizio ristorativo\\n€ 200 € 100 € 300\\n€ 400 € 200 € 600\\n€ 500 € 250 € 750\\n€ 600 € 300 € 900\\nLa richiesta di conversione della borsa di studio non è revocabile, fatti \\nsalvi casi particolari documentati come da art. 2 della Sezione IV - Servizi \\nRistorativi del Bando di concorso. \\nGli studenti idonei alla borsa di studio, ma non assegnatari per \\nindisponibilità delle risorse finanziarie, ricevono un contributo per il \\nservizio ristorativo di € 500,00.\\nAgli studenti assegnatari di borsa di studio che al 31/12/ 2025 abbiano \\nancora un importo prepagato residuo, sarà azzerata la quota rimanente di \\ncontributo ER.GO, mentre la quota di borsa di studio potrà essere utilizzata \\nanche nei successivi anni accademici del proprio percorso di studi.\\nTutti gli studenti con ISEE e/o ISPE superiori ai limiti massimi previsti per \\nla borsa di studio, purché con ISEE fino a € 28.000,00 e con ISPE fino \\na € 62.000,00, in possesso dei requisiti di merito, possono accedere ad \\nun contributo ristorazione di € 500,00, erogato in funzione delle risorse \\ndisponibili dopo il pagamento della borsa di studio a tutti gli idonei.Guida ai Bandi45In tutti i casi l’importo di prepagato in servizio ristorativo è utilizzabile \\ntramite strumento elettronico contenente codice di riconoscimento \\nscaricabile dal dossier utente.\\n15. I contributi per la mobilità \\ninternazionale\\nSono destinati agli studenti iscritti ad anni successivi al primo (fin dal \\nprimo anno per gli studenti iscritti alla laurea magistrale) di tutti i livelli \\ndi corso, idonei alla borsa di studio di ER.GO per l’a.a. 2024/2025  e \\nvincitori di borsa di studio per la partecipazione a programmi di mobilità \\ninternazionale. \\nIl contributo è unico, a sostegno delle spese di alloggio e vitto.\\nL’importo del contributo è di € 600,00 mensili  ed è assegnato per la \\ndurata del periodo di permanenza all’estero, fino ad un massimo di dieci \\nmesi, indipendentemente dal paese di destinazione. Dal contributo di \\ncomplessivi € 600,00 è detratto l’ammontare della borsa concessa a \\nvalere sui fondi dell’Unione Europea o su altro accordo bilaterale anche \\nnon comunitario erogato dall’Università o dall’Istituto AFAM, anche a \\nvalere sul fondo per il Sostegno dei Giovani. \\nEs. lo studente vincitore per cinque mesi di Borsa Erasmus + pari \\na € 240,00 mensili, senza integrazioni economiche ulteriori, se \\nassegnatario del contributo di mobilità internazionale, riceverà da \\nER.GO € 360,00 mensili per il periodo di cinque mesi di permanenza \\nall’estero.\\nAl contributo mobilità è associato il rimborso delle spese di viaggio di \\nandata e ritorno a concorrenza delle spese sostenute e di un importo \\nmassimo pari a:\\n• € 100,00 per i Paesi Europei; \\n• € 500,00 per i Paesi Extraeuropei.\\nPer gli studenti iscritti all’ulteriore semestre rispetto alla durata dei \\ncorsi di studio del nuovo ordinamento il contributo è attribuito per un \\nmassimo di cinque mesi.46\\nGuida ai Bandi16. Gli interventi straordinari\\nER.GO mette a disposizione interventi straordinari per studenti che \\nperdono i requisiti di merito a causa del verificarsi di un evento di \\nparticolare ed eccezionale gravità e che si trovano in particolare stato di \\ndisagio economico, al fine di consentire loro di rientrare nel sistema dei \\nservizi nell’anno successivo o conseguire il titolo di studio.\\nNe consegue che si tratta di interventi con carattere di straordinarietà e \\nnon di ricorrenza.\\nGli interventi straordinari sono:\\n> contributi in denaro compresi tra un minimo di € 250,00 e un massimo \\ndi € 2.000,00,\\n> alloggio con retta da graduatoria (solo per gli studenti già assegnatari \\nnell’a.a. 2023/2024).\\nI contributi in denaro sono riservati a studenti idonei o assegnatari di \\nborsa nell’a.a. 2023/2024. \\nGli interventi straordinari sono concessi solo una volta e sono \\nincompatibili tra di loro. I contributi sono inoltre incompatibili con i \\ncontributi in denaro, aventi le stesse finalità, erogati dalle Università per \\nl’a.a. 2024/2025 .\\nIn alcuni casi potrebbero esserci interventi integrati con gli Atenei.\\nLa domanda, sia per le richieste di assegnazione straordinaria di posto \\nalloggio sia per le richieste di contributo straordinario, deve essere presen -\\ntata esclusivamente tramite INTERNET , collegandosi al sito www.er-go.it, \\naccedendo a DOSSIER UTENTE e selezionando dal menù MODULISTICA \\n“Modulo interventi straordinari”.\\nGli interventi straordinari sono assegnati in base alla valutazione della \\ndocumentazione presentata e tenendo conto del curriculum di merito; è \\nfacoltà di ER.GO richiedere un colloquio per approfondire la situazione \\nsottoposta dallo studente richiedente. L’intervento è assegnato ad \\ninsindacabile giudizio di ER.GO.\\nER.GO si riserva di valutare eventuali richieste di contributo in denaro da \\nparte di studentesse con carriera attiva, madri con figlio entro il primo Guida ai Bandi47anno di vita, solo laddove il nucleo familiare sia costituto esclusivamente \\ndalla madre e dal figlio, in carenza di rete parentale.\\nPotranno inoltre essere valutate situazioni di particolare difficoltà \\nderivanti dalla necessità di prestare assistenza e cura ad un componente \\ndel proprio nucleo familiare non autosufficiente.\\n17. Contributo per studenti fuori \\nsede in alloggio che intraprendono \\nun tirocinio formativo post lauream \\nin Emilia-Romagna\\nSono messi a concorso contributi per sostenere gli studenti fuori sede \\nche intraprendono un tirocinio formativo post lauream sul territorio \\ndell’Emilia-Romagna. I contributi sono destinati agli studenti che \\nsoddisfano tutte le seguenti condizioni:\\na) iscritti all’ultimo anno o al primo anno fuori corso di tutti i corsi di \\nlaurea (o diploma accademico di primo livello), laurea magistrale (o \\ndiploma accademico di secondo livello), laurea magistrale a ciclo unico \\nad esclusione dei Corsi di Laurea in Odontoiatria e Protesi dentaria, \\nMedicina e Chirurgia e degli altri corsi delle professioni sanitarie;\\nb) idonei al servizio abitativo di ER.GO nell’a.a. 2024/2025  nelle \\ngraduatorie pubblicate ai sensi dell’art. 15 della Sezione I - Norme \\nGenerali del Bando di concorso a.a. 2024/2025  e assegnatari di posto \\nalloggio nell’a.a. 2024/2025 ;\\nc) idonei alla borsa di studio di ER.GO nell’a.a. 2024/2025  nelle \\ngraduatorie pubblicate ai sensi dell’art. 15 della Sezione I - Norme \\nGenerali del Bando di concorso a.a. 2024/2025  e già idonei alla borsa \\ndi studio nell’anno accademico precedente;\\nd) che svolgano un tirocinio formativo sul territorio dell’Emilia-Romagna \\ndopo la laurea (o diploma accademico di primo livello) o la laurea \\nmagistrale (o diploma accademico di secondo livello) o la laurea \\nmagistrale a ciclo unico, per un periodo non inferiore a tre mesi e per \\nla durata massima di sei mesi. 48\\nGuida ai BandiIl contributo ER.GO di 250,00 euro mensili  si somma all’indennità di \\n450,00 euro mensili erogata dall’Azienda Ospitante, prevista dalla \\nnormativa vigente.\\nIl valore del contributo di ER.GO è suddiviso in due tranche ed è \\ncommisurato alla durata del tirocinio - per un periodo non inferiore a \\ntre mesi e per la durata massima di sei mesi - per un importo unitario \\ndi euro 250 mensili.\\nIl contributo può essere assegnato per una sola volta nell’intero percorso \\ndegli studi.\\nPer usufruire del contributo occorre soddisfare tutte le seguenti \\ncondizioni:\\n- avere conseguito la laurea (o diploma accademico di primo livello) o \\nla laurea magistrale (o diploma accademico di secondo livello) o la \\nlaurea magistrale a ciclo unico entro la durata legale del corso di studi \\ne comunque non oltre il primo anno fuori corso;\\n- avere svolto PRIMA del conseguimento della laurea il percorso di \\nconsulenza orientativa presso il Servizio Orientamento al Lavoro di \\nER.GO;\\n- avere iniziato un tirocinio formativo entro 90 giorni dalla data di \\nconseguimento della laurea (o diploma accademico di primo livello)  o \\ndella laurea magistrale (o diploma accademico di secondo livello)  o \\ndella laurea magistrale a ciclo unico per tutte le sessioni di laurea \\ndell’a.a. 2024/2025 .\\nIl percorso di consulenza orientativa  realizzato dal Servizio Orientamento \\nal Lavoro di ER.GO, deve essere svolto PRIMA del conseguimento della \\nlaurea e si articola in almeno 7 ore , di cui:\\n- 4 ore di Workshop sulle Tecniche di ricerca attiva del lavoro (in \\nparticolare gli incontri denominati “La ricerca del lavoro: istruzioni per \\nl’uso” – “Il CV e le lettere di presentazione”);\\n- 3 ore di consulenza orientativa individuale distribuite in più colloqui \\nfinalizzati alla definizione di una strategia di ricerca personalizzata \\ndelle opportunità di tirocinio/lavoro post lauream. Il primo colloquio \\ndeve essere richiesto attraverso le modalità indicate alla pagina Guida ai Bandi49del sito ER.GO: https://www.er-go.it/scopri-i-servizi/servizi-di-\\norientamento/orientamento-al-lavoro.\\nA partire dalla sessione estiva di laurea (giugno/luglio 2025) e per tutte le \\nsessioni di laurea dell’a.a. 2024/2025 , gli studenti che intendono fruire del \\ncontributo sono tenuti a comunicare tempestivamente all’indirizzo e-mail \\ndel Servizio Orientamento al Lavoro della sede di interesse: ( https://www.\\ner-go.it/scopri-i-servizi/servizi-di-orientamento/orientamento-al-lavoro/\\ncontatti ) la data di conseguimento della laurea (o diploma accademico di \\nprimo livello) o della laurea magistrale (o diploma accademico di secondo \\nlivello) o della laurea magistrale a ciclo unico.\\nPer ogni sessione di laurea, l’assegnazione dei contributi ai laureati \\navviene in base al numero di anni impiegati per conseguire il titolo \\nin rapporto alla durata legale del corso di studi. In caso di parità \\nl’assegnazione dei contributi avviene con il seguente ordine di priorità: \\n1) condizioni economiche più disagiate; 2) voto di laurea.\\nLa prima assegnazione dei contributi riguarda i laureati della sessione \\nestiva (giugno/luglio 2025). Qualora rimangano disponibilità finanziarie \\ndopo la prima assegnazione, si procederà ad assegnazioni a favore \\ndei laureati delle successive sessioni dell’a.a. 2024/2025 fino ad \\nesaurimento delle risorse a concorso.\\nPer il periodo di svolgimento del tirocinio , in caso di disponibilità di \\nposti alloggio, ER.GO può destinare agli interessati il servizio abitativo \\nalla tariffa agevolata  prevista dalle TABELLE RETTE E TARIFFE SERVIZI \\nRESIDENZIALI (Tab. 3). Compatibilmente con i posti disponibili, \\nl’interessato può rimanere in alloggio anche nei 90 giorni antecedenti la \\ndata di attivazione del tirocinio, corrispondendo la tariffa da idoneo fino \\na sette giorni dopo il conseguimento del titolo di studio, poi la tariffa da \\nospite a libero accesso.\\nPer richiedere di restare in alloggio nel periodo di ricerca e durante il \\ntirocinio, occorre presentare richiesta all’indirizzo e-mail del Servizio \\nOrientamento al Lavoro della sede di interesse: ( https://www.er-go.it/\\nscopri-i-servizi/servizi-di-orientamento/orientamento-al-lavoro/contatti ) \\ncon un anticipo di almeno 30 giorni rispetto alla data di conseguimento \\ndel titolo di studio. Per chi intende laurearsi nella sessione autunnale, la \\nrichiesta di permanenza in alloggio deve essere inviata entro il 31 luglio.50\\nGuida ai BandiPer i laureati dei corsi interateneo “MUNER”  e degli altri corsi interateneo  \\ndelle Università dell’Emilia-Romagna, con sede in Emilia-Romagna la \\ncontinuità del servizio abitativo , in caso di disponibilità di posti, sarà \\nassicurata presso la sede del corso dove si svolge il tirocinio.\\n18. Studenti internazionali\\nPer concorrere ai benefici per l’a.a. 2024/2025  gli studenti di cui ai seguenti \\nparagrafi devono presentare la documentazione relativa alle condizioni \\neconomiche e patrimoniali all’estero riferita all’anno 2023, completa, \\ntradotta e legalizzata tramite DOSSIER UTENTE entro le scadenze del \\nperfezionamento della domanda, previste dall’art. 14 della Sezione I - Norme \\nGenerali del Bando di concorso, pena la non idoneità ai benefici .\\nER.GO si riserva di richiedere in corso d’anno la documentazione originale \\ncartacea, presentata tramite DOSSIER UTENTE, a fini di controllo. La \\nmancata o parziale presentazione della documentazione originale cartacea \\nrichiesta in fase di controllo, indipendentemente dalla motivazione, ivi \\ncompresa la causa di forza maggiore, comporterà la revoca dei benefici. \\nIn particolare saranno sottoposti a controllo approfondito presso le autorità \\ncompetenti, con sospensione dei benefici fino a conclusione delle verifiche, \\ni certificati in lingua italiana rilasciati dall’Ambasciata o da un Consolato \\nin Italia del Paese di origine, legalizzati dalla Prefettura competente per \\nterritorio, laddove attestino l’assenza totale di redditi. In questi casi, \\nagli studenti del primo anno di corso potrà essere richiesta, per valutare \\nl’idoneità ai benefici, la documentazione presentata ai fini del rilascio del \\nvisto d’ingresso in Italia, atta a dimostrare il possesso dei mezzi economici \\ndi sussistenza per il soggiorno previsto per motivi di studio. \\nSi ricorda che anche gli studenti che compilano la domanda benefici \\nin un Caf convenzionato con ER.GO, sono tenuti a presentare la \\ndocumentazione relativa alle condizioni economiche e patrimoniali \\ncompleta, tradotta e legalizzata tramite DOSSIER UTENTE entro le \\nscadenze sopra indicate, pena la non idoneità.\\nLa documentazione da presentare è quella indicata nei successivi \\nparagrafi 18.1 e 18.2.Guida ai Bandi5118.1. La documentazione richiesta \\nagli studenti internazionali \\nprovenienti da Paesi non \\nappartenenti all’Unione Europea\\nGli studenti internazionali provenienti da Paesi non appartenenti al-\\nl’Unione Europea devono presentare la documentazione delle condizioni \\neconomiche e patrimoniali rilasciata dalle autorità competenti per \\nil territorio in cui i redditi sono stati prodotti e dove sono posseduti i \\npatrimoni. La documentazione deve essere tradotta in lingua italiana e \\nlegalizzata dalle autorità diplomatiche italiane competenti per territorio o, \\nladdove previsto, apostillata ai sensi della normativa vigente.\\nNel caso dei Paesi in cui ci siano particolari difficoltà a rilasciare \\nla certificazione attestata dalla locale Ambasciata italiana, la \\ndocumentazione può essere sostituita da un certificato in lingua italiana \\nrilasciato dall’Ambasciata o da un Consolato in Italia del Paese di origine, \\nlegalizzato dalla Prefettura competente per territorio. \\nPer informazioni sulle modalità di traduzione e legalizzazione dei \\ndocumenti internazionali, consultare il sito del Ministero degli Esteri a \\nquesto indirizzo: https:urly.it/3npqv.\\nIn ogni caso dalla documentazione deve risultare:\\na) la composizione del nucleo familiare, certificato che attesti la \\ncomposizione della famiglia di appartenenza. Per la composizione \\ndel nucleo familiare valgono le regole previste dalla normativa ISEE \\nper prestazioni per il diritto allo studio universitario (vedi art. 7 della \\nSezione I - Norme Generali del Bando).\\n Situazioni particolari\\n Stato di famiglia con presente un solo genitore:\\n- in caso di divorzio : occorre l’atto di divorzio o documento del tribunale \\nse è in corso la separazione;\\n- in caso di morte : occorre il certificato di morte se non già presentato \\nall’Azienda negli anni accademici precedenti;\\n- lo studente non è stato riconosciuto dal padre : occorre il certificato di \\nnascita dello studente;52\\nGuida ai Bandi- un genitore è irreperibile : occorre la certificazione dell’irreperibilità \\neffettuata dalle autorità competenti;\\n- presenza di un tutore nello stato di famiglia : è necessario presentare \\natto di nomina del tutore delle autorità competenti;\\n Lo studente è orfano di entrambi i genitori:  è necessario consegnare \\ni certificati di morte di entrambi i genitori se non già presentati al-\\nl’Azienda negli anni accademici precedenti;\\n Presenza nello stato di famiglia di fratelli/sorelle maggiorenni sposati : \\nè necessario presentare il certificato di matrimonio oppure deve es -\\nsere specificato lo stato civile del fratello/sorella nel certificato della \\ncomposizione della famiglia;\\n Presenza nello stato di famiglia di fratelli/sorelle maggiorenni non con -\\nviventi con la famiglia di origine : è necessario presentare il certificato \\ndi residenza del fratello/sorella non convivente oppure può essere \\nspecificato nel certificato della composizione della famiglia.\\nb) l’attività esercitata da ciascun componente il nucleo familiare \\nnel 2023, compresi fratelli/sorelle maggiorenni. Nei casi in cui \\nalcuni componenti non esercitino alcuna attività, deve risultare \\ndalla documentazione la condizione di non occupazione o lo stato \\ndi disoccupazione e l’ammontare dell’eventuale indennità di \\ndisoccupazione o simile percepita;\\nc) il periodo di svolgimento dell’attività lavorativa di ciascun componente \\n(indicando se si tratta di un periodo inferiore o superiore a sei mesi \\nnel corso del 2023); \\nd) il valore del reddito conseguito nell’anno 2023: certificazione \\nrilasciata da Amministrazione pubblica competente per la gestione \\nfiscale con riportati i redditi lordi complessivi (incluse le tasse) da \\nlavoro o pensione percepiti da ciascuno dei componenti maggiorenni \\ndella famiglia nell’anno solare 2023.\\n Situazioni particolari\\n Se non si è in possesso del certificato sopra indicato può essere pre -\\nsentato uno dei seguenti documenti:\\n- Certificato rilasciato del datore di lavoro con indicazione del salario \\npercepito nell’anno solare 2023 (da gennaio a dicembre) comprensivo \\ndelle tasse;\\n- Ultima busta paga (dicembre 2023) solo se in essa risulta il reddito \\ncomplessivo percepito nell’anno 2023;Guida ai Bandi53- Tutte le 12 buste paghe mensili del reddito percepito nell’anno solare \\n2023, se nell’ultima busta paga non risulta il reddito complessivo;\\ne) Fabbricati : certificazione di tutti i fabbricati posseduti alla data del \\n31 dicembre 2023da ciascuno dei componenti della famiglia con \\nl’indicazione della superficie in metri quadrati. \\n Nello specifico: \\n Casa di abitazione : di proprietà : occorre presentare il certificato di \\nproprietà con la superficie. In tutti gli altri casi (contratto di locazione, \\nuso gratuito ecc.) occorre allegare apposita dichiarazione rilasciata \\ndalla competente autorità che attesti che nessun componente del nu -\\ncleo sia proprietario di immobili.\\n Altri fabbricati : occorre presentare i relativi certificati di proprietà;\\nf) l’ammontare dell’eventuale mutuo residuo al 31/12/2023 sulla casa \\ndi abitazione e/o sugli altri immobili;\\ng) il valore del patrimonio mobiliare di ogni singolo componente del \\nnucleo familiare posseduto al 31/12/2023; \\nh) l’eventuale invalidità o handicap documentato dello studente.\\nLa documentazione deve riportare i valori espressi in valuta locale, che \\nsaranno convertiti in euro sulla base del tasso medio di cambio delle \\nvalute estere dell’anno 2023, calcolato dalla Banca d’Italia6.\\nGli studenti internazionali provenienti da Paesi non appartenenti \\nall’Unione Europea, che risultano “particolarmente poveri” (Tabella \\nA - Sezione I - Norme Generali del Bando), devono produrre una \\ncertificazione della Rappresentanza italiana nel Paese di provenienza \\nche attesti che lo studente non appartiene ad una famiglia notoriamente \\ndi alto reddito ed elevato livello sociale.\\n6  In mancanza, si farà riferimento al tasso medio di cambio immediatamente \\nprecedente pubblicato dalla Banca d’Italia.54\\nGuida ai Bandi18.2. La documentazione richiesta \\nagli studenti internazionali \\nprovenienti da Paesi dell’Unione \\nEuropea\\nGli studenti internazionali provenienti da uno dei Paesi dell’Unione \\nEuropea sono equiparati ai cittadini italiani, anche per quanto riguarda \\nle norme sulla semplificazione amministrativa e quindi possono \\nautocertificare i redditi e i patrimoni, dichiarando nella domanda: \\n- la composizione del nucleo familiare. Per la composizione del \\nnucleo familiare valgono le regole previste dalla normativa ISEE per \\nprestazioni per il diritto allo studio universitario (vedi art. 7 della \\nSezione I - Norme Generali del Bando);\\n- i redditi complessivi percepiti all’estero nell’anno 2023: i redditi sono \\nvalutati sulla base delle parità permanenti ed espressi in euro;\\n- il patrimonio posseduto all’estero al 31/12/2023: i beni immobili sono \\nconsiderati solo se fabbricati, sulla base del valore convenzionale pari \\na € 500,00 al metro quadrato; i patrimoni mobiliari sono valutati sulla \\nbase delle parità permanenti ed espressi in euro.\\nAl fine di attivare i necessari controlli ai sensi dell’art. 17 della Sezione \\nI - Norme Generali del Bando , tutti gli studenti sono comunque tenuti a \\npresentare entro i termini di scadenza richiamati al paragrafo 17 lo stato \\ndi famiglia e la documentazione relativa alle condizioni economiche \\ne patrimoniali autocertificate, tradotti in lingua italiana e, laddove \\nnecessario, legalizzati o apostillati ai sensi della normativa vigente.Guida ai Bandi5518.3. Disposizioni comuni a \\nstudenti internazionali provenienti \\nda Paesi UE e da Paesi extra UE\\nGli studenti internazionali, il cui nucleo familiare risiede e percepisce \\nredditi e/o possiede patrimoni in Italia, presentano la domanda con le \\nstesse modalità previste per gli studenti italiani. In caso di redditi e/o \\npatrimoni misti (parte in Italia e parte all’estero), i redditi e/o i patrimoni \\nall’estero devono essere documentati entro le scadenze e con le modalità \\nspecificate ai paragrafi 18.1 e 18.2, anche se inclusi nella dichiarazione \\nsostitutiva unica (DSU).\\nGli studenti internazionali in possesso di doppia cittadinanza presentano \\ndomanda scegliendo una delle due cittadinanze. Nel caso in cui una \\ndelle due cittadinanze sia quella italiana prevale quest’ultima.56\\nGuida ai Bandi18.4. Studenti internazionali \\nriconosciuti apolidi o titolari di \\nprotezione internazionale (con \\npermesso di soggiorno per asilo \\npolitico o protezione sussidiaria) \\no di protezione temporanea o \\ncomplementare (ad es. protezione \\nspeciale, casi speciali)\\nGli studenti riconosciuti apolidi o titolari di protezione internazionale  \\n(con permesso di soggiorno per asilo politico o protezione sussidiaria) \\no protezione temporanea o complementare (ad es. protezione speciale, \\ncasi speciali) sono esentati dal presentare dichiarazioni rilasciate da \\nAmbasciate o Consolati, poiché ai fini della valutazione della condizione \\neconomica si tiene conto solo dei redditi e del patrimonio eventualmente \\ndetenuti in Italia, rilevati con le stesse modalità previste per gli studenti \\nitaliani.\\nGli studenti sono pertanto tenuti a presentare: \\na) copia del permesso di soggiorno valido;\\nb) copia del passaporto, della carta di identità o di altro documento di \\nriconoscimento in corso di validità;\\nc) attestazione ISEE 2024.\\nGli studenti con permesso di soggiorno per richiesta asilo, per i quali \\nsia ancora in corso la procedura di riconoscimento dello status e non \\nrisultino pertanto in possesso del relativo permesso di soggiorno, sono \\ntenuti a presentare i documenti di cui alle lett. a), b), c). L’eventuale \\nassegnazione dei benefici è condizionata al riconoscimento dello status \\ncon rilascio del relativo permesso di soggiorno.\\nGli studenti per i quali sia in corso la procedura di rinnovo del permesso \\ne non risultino pertanto in possesso del relativo permesso di soggiorno, \\nsono tenuti a presentare i documenti di cui alle lett. a), b), c). L’eventuale Guida ai Bandi57assegnazione dei benefici è condizionata al riconoscimento dello status \\ncon rilascio del relativo permesso di soggiorno.\\nIn caso di conversione del permesso di soggiorno di cui al presente \\nparagrafo 18.4 in permesso di soggiorno per un motivo diverso da \\nquello originario, non più in ambito di protezione internazionale o \\ncomplementare, ER.GO si riserva di valutare la condizione economica \\nsenza applicare le disposizioni sul nucleo familiare di riferimento di cui \\nall’art. 7 della Sezione I - Norme Generali del Bando.\\nGli studenti internazionali devono presentare l’autocertificazione di \\ndomicilio e la successiva documentazione entro le scadenze indicate, \\nper fruire della borsa di studio di importo “Fuori sede” o “Pendolare” (ad \\neccezione degli studenti di cui al paragrafo 18.4 con nucleo familiare \\nnon residente in Italia).58\\nGuida ai BandiAppendice sulla documentazione di \\ndomicilio\\nI contratti e gli atti ad essi collegati, come ad esempio la “cessione ed il \\nsubentro”, sono soggetti al versamento di una imposta.\\nLe imposte di registro si possono pagare con il modello F24Elide \\n(acronimo di Elementi Identificativi) e con il modello RLI 12 (Registrazione \\nLocazioni Immobili) che sono disponibili sul sito dell’Agenzia delle \\nEntrate www.agenziaentrate.gov.it  nella sezione Strumenti - Modelli.\\nIl regime della Cedolare secca  è alternativo a quello “ordinario”, che \\nprevede il pagamento delle imposte di registro e di bollo al momento \\ndell’adempimento stesso (registrazioni, risoluzioni e proroghe).\\nChi dà in locazione un alloggio può scegliere l’una o l’altra modalità. \\nNel caso della cedolare secca, il modello di riferimento è chiamato \\nRLI 12.\\nInoltre può essere accettato uno dei seguenti documenti:\\n- dichiarazione dell’Agenzia delle Entrate che conferma l’opzione della \\ncedolare secca;\\n- dichiarazione dell’Agenzia delle Entrate di proroga della cedolare \\nsecca con i riferimenti del contratto.\\nN.B. per gli atti di subentro, le cessioni e le sub-locazioni la registrazione \\navviene tramite modello F23 o RLI 12.Le sedi territoriali di ER.GO\\nBologna e Romagna\\na Bologna Via Schiavonia 3/A - 40121 Bologna\\na Cesena, via Montalti, 69 - 47521 Cesena\\nFerrara\\na Ferrara, c/o Residenza Santa Lucia Via Ariosto 35 - 44121 Ferrara\\n \\nModena e Reggio Emilia\\na Modena, Via Vignolese 671/1 - 41125 Modena\\na Reggio Emilia, Via Paolo Borsellino 26 - 42124 Reggio Emilia\\n \\nParma\\na Parma, Vicolo Grossardi, 4 - 43125 Parma',\n",
       "  'filename': 'Guida al bando 2024_25.pdf'}]"
      ]
     },
     "execution_count": 53,
     "metadata": {},
     "output_type": "execute_result"
    }
   ],
   "source": [
    "pdf_contents"
   ]
  },
  {
   "cell_type": "markdown",
   "metadata": {},
   "source": [
    "# **Split the texts**"
   ]
  },
  {
   "cell_type": "code",
   "execution_count": 54,
   "metadata": {},
   "outputs": [],
   "source": [
    "from langchain_text_splitters import MarkdownHeaderTextSplitter, RecursiveCharacterTextSplitter\n",
    "from litellm import completion"
   ]
  },
  {
   "cell_type": "code",
   "execution_count": 69,
   "metadata": {},
   "outputs": [],
   "source": [
    "token_size = 1000\n",
    "text_splitter = RecursiveCharacterTextSplitter.from_tiktoken_encoder(\n",
    "    model_name=\"gpt-4\",\n",
    "    chunk_size=token_size,\n",
    "    chunk_overlap=0,\n",
    ")"
   ]
  },
  {
   "cell_type": "code",
   "execution_count": 70,
   "metadata": {},
   "outputs": [],
   "source": [
    "def clean_text(text):\n",
    "    # Remove all newline characters\n",
    "    text = text.replace('\\n', ' ').replace('\\r', ' ')\n",
    "\n",
    "    # Replace multiple space with a single space\n",
    "    text = re.sub(r'\\s+', ' ', text)\n",
    "\n",
    "    # Strip leaidng and trailing spaces\n",
    "    text = text.strip()\n",
    "\n",
    "    return text"
   ]
  },
  {
   "cell_type": "code",
   "execution_count": 71,
   "metadata": {},
   "outputs": [],
   "source": [
    "def get_embeddings(texts: List[str], model: str = \"text-embedding-ada-002\", api_key: str = OPENAI_API_KEY) -> List[List[float]]:\n",
    "    url = \"https://api.openai.com/v1/embeddings\"\n",
    "    headers = {\n",
    "        \"Content-Type\": \"application/json\",\n",
    "        \"Authorization\": f\"Bearer {api_key}\"\n",
    "    }\n",
    "    data = {\n",
    "        \"input\": texts,\n",
    "        \"model\": model\n",
    "    }\n",
    "\n",
    "    response = requests.post(url, headers=headers, data=json.dumps(data))\n",
    "\n",
    "    if response.status_code == 200:\n",
    "        return [item['embedding'] for item in response.json()[\"data\"]]\n",
    "    else:\n",
    "        print(f\"Error {response.status_code}: {response.text}\")\n",
    "        return None"
   ]
  },
  {
   "cell_type": "code",
   "execution_count": 72,
   "metadata": {},
   "outputs": [
    {
     "name": "stdout",
     "output_type": "stream",
     "text": [
      "Chunks totali: 33\n",
      "Documenti divisi totali: 33\n",
      "Embeddings generati per 33 chunks\n"
     ]
    }
   ],
   "source": [
    "# Estrarre il contenuto testuale da ciascun documento PDF\n",
    "all_text = \"\"\n",
    "for pdf_doc in pdf_contents:\n",
    "    all_text += pdf_doc['content'] + \"\\n\\n\"  # Aggiungiamo due newline per separare i documenti\n",
    "\n",
    "# Ora dividiamo il testo combinato\n",
    "text_chunks = text_splitter.split_text(all_text)\n",
    "print(f\"Chunks totali: {len(text_chunks)}\")\n",
    "\n",
    "# Creiamo una lista di dizionari con i chunks e le informazioni sul file di origine\n",
    "chunked_documents: List[Dict[str, str]] = []\n",
    "for pdf_doc in pdf_contents:\n",
    "    doc_chunks = text_splitter.split_text(pdf_doc['content'])\n",
    "    for chunk in doc_chunks:\n",
    "        chunked_documents.append({\n",
    "            'content': chunk,\n",
    "            'source': pdf_doc['filename']\n",
    "        })\n",
    "\n",
    "print(f\"Documenti divisi totali: {len(chunked_documents)}\")\n",
    "\n",
    "# Generiamo gli embeddings per i chunks\n",
    "chunk_texts = [doc['content'] for doc in chunked_documents]\n",
    "embeddings = get_embeddings(chunk_texts, api_key=OPENAI_API_KEY)\n",
    "\n",
    "# Aggiungiamo gli embeddings ai documenti divisi\n",
    "for doc, embedding in zip(chunked_documents, embeddings):\n",
    "    doc['embedding'] = embedding\n",
    "\n",
    "print(f\"Embeddings generati per {len(embeddings)} chunks\")"
   ]
  },
  {
   "cell_type": "markdown",
   "metadata": {},
   "source": [
    "# **Inizializzare il Database Vettoriale**"
   ]
  },
  {
   "cell_type": "code",
   "execution_count": 73,
   "metadata": {},
   "outputs": [
    {
     "data": {
      "text/plain": [
       "<qdrant_client.qdrant_client.QdrantClient at 0x1b1e80e28d0>"
      ]
     },
     "execution_count": 73,
     "metadata": {},
     "output_type": "execute_result"
    }
   ],
   "source": [
    "from qdrant_client import QdrantClient\n",
    "from qdrant_client.models import VectorParams, Distance\n",
    "\n",
    "client = QdrantClient(\"http://localhost:6333\")\n",
    "client"
   ]
  },
  {
   "cell_type": "code",
   "execution_count": 74,
   "metadata": {},
   "outputs": [],
   "source": [
    "# Configurazione\n",
    "collection_name = \"agentic_rag_index\"\n",
    "VECTOR_SIZE = 1536  # Dimensione del vettore per il modello \"text-embedding-ada-002\" di OpenAI"
   ]
  },
  {
   "cell_type": "code",
   "execution_count": 75,
   "metadata": {},
   "outputs": [
    {
     "name": "stdout",
     "output_type": "stream",
     "text": [
      "Collezione 'agentic_rag_index' creata con successo.\n"
     ]
    }
   ],
   "source": [
    "# Cancella la collection se presente\n",
    "client.delete_collection(collection_name)\n",
    "\n",
    "# Creazione della collezione\n",
    "client.create_collection(\n",
    "    collection_name=collection_name,\n",
    "    vectors_config=VectorParams(size=VECTOR_SIZE, distance=Distance.COSINE),\n",
    ")\n",
    "\n",
    "print(f\"Collezione '{collection_name}' creata con successo.\")"
   ]
  },
  {
   "cell_type": "code",
   "execution_count": 76,
   "metadata": {},
   "outputs": [
    {
     "name": "stdout",
     "output_type": "stream",
     "text": [
      "La collezione 'agentic_rag_index' è presente nell'elenco delle collezioni.\n"
     ]
    }
   ],
   "source": [
    "# Opzionale: Verifica che la collezione sia stata creata\n",
    "collections = client.get_collections().collections\n",
    "if any(collection.name == collection_name for collection in collections):\n",
    "    print(f\"La collezione '{collection_name}' è presente nell'elenco delle collezioni.\")\n",
    "else:\n",
    "    print(f\"Attenzione: La collezione '{collection_name}' non è stata trovata nell'elenco delle collezioni.\")"
   ]
  },
  {
   "cell_type": "code",
   "execution_count": 77,
   "metadata": {},
   "outputs": [
    {
     "name": "stdout",
     "output_type": "stream",
     "text": [
      "Caricati 33 documenti nella collezione agentic_rag_index\n",
      "Numero totale di documenti nella collezione: 33\n"
     ]
    }
   ],
   "source": [
    "# Preparazione dei dati per il caricamento\n",
    "ids = []\n",
    "payload = []\n",
    "vectors = []\n",
    "\n",
    "for id, doc in enumerate(chunked_documents):\n",
    "    ids.append(id)\n",
    "    payload.append({\n",
    "        \"source\": doc['source'],\n",
    "        \"content\": doc['content']\n",
    "    })\n",
    "    vectors.append(doc['embedding'])\n",
    "\n",
    "# Caricamento dei dati in Qdrant\n",
    "client.upload_collection(\n",
    "    collection_name=collection_name,\n",
    "    vectors=vectors,\n",
    "    payload=payload,\n",
    "    ids=ids,\n",
    "    batch_size=256,\n",
    ")\n",
    "\n",
    "print(f\"Caricati {len(ids)} documenti nella collezione {collection_name}\")\n",
    "\n",
    "# Verifica del conteggio dei documenti nella collezione\n",
    "count = client.count(collection_name)\n",
    "print(f\"Numero totale di documenti nella collezione: {count.count}\")\n",
    "\n",
    "def search(text: str, top_k: int = 5):\n",
    "    query_embedding = get_embeddings([text])[0]\n",
    "    \n",
    "    search_result = client.search(\n",
    "        collection_name=collection_name,\n",
    "        query_vector=query_embedding,\n",
    "        query_filter=None,\n",
    "        limit=top_k,\n",
    "    )\n",
    "    \n",
    "    return search_result\n",
    "\n",
    "def format_docs(docs):\n",
    "    return \"\\n\\n\".join(f\"Source: {doc.payload['source']}\\nContent: {doc.payload['content']}\" for doc in docs)"
   ]
  },
  {
   "cell_type": "code",
   "execution_count": 79,
   "metadata": {},
   "outputs": [],
   "source": [
    "from IPython.display import Markdown, display\n",
    "from duckduckgo_search import DDGS"
   ]
  },
  {
   "cell_type": "code",
   "execution_count": 80,
   "metadata": {},
   "outputs": [],
   "source": [
    "# Prompt per la decisione\n",
    "decision_system_prompt = \"\"\"Your job is to decide if a given question can be answered with a given context.\n",
    "If the context can answer the question return 1.\n",
    "If not return 0.\n",
    "\n",
    "Do not return anything else except for 0 or 1.\n",
    "\n",
    "Context: {context}\n",
    "\"\"\"\n",
    "\n",
    "decision_user_prompt = \"\"\"\n",
    "question: {question}\n",
    "\n",
    "Answer:\"\"\"\n",
    "\n",
    "# Prompt per la risposta\n",
    "answer_system_prompt = \"\"\"You are an expert at answering questions. Answer the question according only to information that you have.\n",
    "If the question cannot be answered using the context, simply say \"I don't know\". Do not make stuff up.\n",
    "Your answer MUST be informative, concise, and action-driven. Your response must be in Markdown format.\n",
    "\n",
    "Context: {context}\n",
    "\"\"\"\n",
    "\n",
    "answer_user_prompt = \"\"\"\n",
    "question: {question}\n",
    "\n",
    "Answer:\"\"\""
   ]
  },
  {
   "cell_type": "code",
   "execution_count": 81,
   "metadata": {},
   "outputs": [],
   "source": [
    "def format_search_result(results):\n",
    "    return \"\\n\\n\".join(doc[\"body\"] for doc in results)\n",
    "\n",
    "def answer_question(question: str):\n",
    "    # Ricerca locale\n",
    "    results = search(question, top_k=5)\n",
    "    context = format_docs(results)\n",
    "\n",
    "    # print(f\"Context: {context}\")\n",
    "    # Decisione se il contesto può rispondere alla domanda\n",
    "    decision_response = completion(\n",
    "        model=\"gpt-4o-2024-08-06\",\n",
    "        messages=[\n",
    "            {\"content\": decision_system_prompt.format(context=context), \"role\": \"system\"},\n",
    "            {\"content\": decision_user_prompt.format(question=question), \"role\": \"user\"}\n",
    "        ],\n",
    "        max_tokens=1\n",
    "    )\n",
    "    has_answer = int(decision_response.choices[0].message.content)\n",
    "\n",
    "    # print(f\"has_answer: {has_answer}\")\n",
    "\n",
    "    print(f\"Question: {question}\")\n",
    "    if has_answer == 1:\n",
    "        print(\"Context can answer the question\")\n",
    "        response = completion(\n",
    "            model=\"gpt-4o-2024-08-06\",\n",
    "            messages=[\n",
    "                {\"content\": answer_system_prompt.format(context=context), \"role\": \"system\"},\n",
    "                {\"content\": answer_user_prompt.format(question=question), \"role\": \"user\"}\n",
    "            ],\n",
    "            max_tokens=500\n",
    "        )\n",
    "        print(\"Answer:\")\n",
    "        # print(response.choices[0].message.content)\n",
    "        display(Markdown(response.choices[0].message.content))\n",
    "    else:\n",
    "        print(\"Context is NOT relevant.\")\n",
    "    "
   ]
  },
  {
   "cell_type": "markdown",
   "metadata": {},
   "source": [
    "## **Domande Semplici**"
   ]
  },
  {
   "cell_type": "code",
   "execution_count": 82,
   "metadata": {},
   "outputs": [
    {
     "name": "stdout",
     "output_type": "stream",
     "text": [
      "Question: Qual è il sito web dove gli studenti possono fare domanda per i benefici per l'anno accademico 2024/2025?\n",
      "Context can answer the question\n",
      "Answer:\n"
     ]
    },
    {
     "data": {
      "text/markdown": [
       "Gli studenti possono fare domanda per i benefici per l'anno accademico 2024/2025 sul sito web [www.er-go.it](http://www.er-go.it), nella sezione \"FAI DOMANDA ONLINE\"."
      ],
      "text/plain": [
       "<IPython.core.display.Markdown object>"
      ]
     },
     "metadata": {},
     "output_type": "display_data"
    }
   ],
   "source": [
    "# Esempio di utilizzo\n",
    "question_1 = \"Qual è il sito web dove gli studenti possono fare domanda per i benefici per l'anno accademico 2024/2025?\"\n",
    "answer_question(question_1)"
   ]
  },
  {
   "cell_type": "markdown",
   "metadata": {},
   "source": [
    "## **Domande Intermedie**"
   ]
  },
  {
   "cell_type": "code",
   "execution_count": 84,
   "metadata": {},
   "outputs": [
    {
     "name": "stdout",
     "output_type": "stream",
     "text": [
      "Question: Quali sono le soglie ISEE e ISPE per accedere alla borsa di studio?\n",
      "Context can answer the question\n",
      "Answer:\n"
     ]
    },
    {
     "data": {
      "text/markdown": [
       "Le soglie ISEE e ISPE per accedere alla borsa di studio sono rispettivamente 25.000,00 € e 50.000,00 €."
      ],
      "text/plain": [
       "<IPython.core.display.Markdown object>"
      ]
     },
     "metadata": {},
     "output_type": "display_data"
    }
   ],
   "source": [
    "# Esempio di utilizzo\n",
    "question_2 = \"Quali sono le soglie ISEE e ISPE per accedere alla borsa di studio?\"\n",
    "answer_question(question_2)"
   ]
  },
  {
   "cell_type": "code",
   "execution_count": 85,
   "metadata": {},
   "outputs": [
    {
     "name": "stdout",
     "output_type": "stream",
     "text": [
      "Question: Quali sono le condizioni affinché uno studente sia considerato 'Fuori Sede'?\n",
      "Context can answer the question\n",
      "Answer:\n"
     ]
    },
    {
     "data": {
      "text/markdown": [
       "Uno studente è considerato \"Fuori Sede\" se soddisfa le seguenti condizioni:\n",
       "\n",
       "1. **Distanza**: Risiede in un Comune la cui distanza dalla sede del corso frequentato è percorribile con i mezzi di trasporto pubblico in più di novanta minuti.\n",
       "\n",
       "2. **Alloggio**:\n",
       "   - È assegnatario di un posto alloggio di ER.GO per almeno 10 mesi nel periodo dal 16 settembre 2024 al 15 settembre 2025.\n",
       "   - Oppure prende alloggio a titolo oneroso presso la sede universitaria frequentata o nelle vicinanze all'interno dei comuni specificati nella Tabella 1 o Tabella 2 per almeno 10 mesi nell'anno accademico (dal 1° ottobre 2024 al 30 settembre 2025).\n",
       "\n",
       "3. **Autonomia Economica**: Gli studenti considerati economicamente indipendenti possono beneficiare della borsa di studio di importo fuori sede, indipendentemente dalla distanza e dal domicilio.\n",
       "\n",
       "Inoltre, gli studenti devono compilare online un'autocertificazione di domicilio tra il 3 luglio 2024 e il 18 novembre 2024, presentando eventuale documentazione entro il 31 gennaio 2025."
      ],
      "text/plain": [
       "<IPython.core.display.Markdown object>"
      ]
     },
     "metadata": {},
     "output_type": "display_data"
    }
   ],
   "source": [
    "# Esempio di utilizzo\n",
    "question_3 = \"Quali sono le condizioni affinché uno studente sia considerato 'Fuori Sede'?\"\n",
    "answer_question(question_3)"
   ]
  },
  {
   "cell_type": "code",
   "execution_count": 86,
   "metadata": {},
   "outputs": [
    {
     "name": "stdout",
     "output_type": "stream",
     "text": [
      "Question: Qual è la percentuale di incremento della borsa di studio se uno studente ha un ISEE fino a €12.500,00?\n",
      "Context can answer the question\n",
      "Answer:\n"
     ]
    },
    {
     "data": {
      "text/markdown": [
       "Il valore della borsa di studio è incrementato del 15% in caso di ISEE fino a €12.500,00."
      ],
      "text/plain": [
       "<IPython.core.display.Markdown object>"
      ]
     },
     "metadata": {},
     "output_type": "display_data"
    }
   ],
   "source": [
    "# Esempio di utilizzo\n",
    "question_4 = \"Qual è la percentuale di incremento della borsa di studio se uno studente ha un ISEE fino a €12.500,00?\"\n",
    "answer_question(question_4)"
   ]
  },
  {
   "cell_type": "markdown",
   "metadata": {},
   "source": [
    "## **Domande Complesse**"
   ]
  },
  {
   "cell_type": "code",
   "execution_count": 87,
   "metadata": {},
   "outputs": [
    {
     "name": "stdout",
     "output_type": "stream",
     "text": [
      "Question: Descrivi il processo e i requisiti per gli studenti internazionali provenienti da paesi non UE per fare domanda di benefici.\n",
      "Context can answer the question\n",
      "Answer:\n"
     ]
    },
    {
     "data": {
      "text/markdown": [
       "Per fare domanda di benefici, gli studenti internazionali provenienti da paesi non UE devono seguire il seguente processo e soddisfare i requisiti richiesti:\n",
       "\n",
       "### Processo di domanda:\n",
       "1. **Presentazione della domanda:** La domanda deve essere compilata esclusivamente online attraverso il sito www.er-go.it nella sezione \"FAI DOMANDA ONLINE\" o presso i CAF convenzionati.\n",
       "2. **Scadenze:** È necessario rispettare le scadenze indicate per la presentazione della domanda. Per esempio, per la borsa di studio dal 3 luglio al 30 agosto 2024.\n",
       "3. **Documentazione richiesta:** Gli studenti devono fornire la documentazione economica e patrimoniale richiesta, tradotta in italiano e legalizzata, se necessario.\n",
       "4. **Autocertificazione di domicilio:** Deve essere presentata insieme alla documentazione pertinente.\n",
       "\n",
       "### Requisiti:\n",
       "1. **Condizioni economiche e patrimoniali:** Devono essere documentate e, se parte di esse è all'estero, devono essere tradotte e legalizzate.\n",
       "2. **ISEE/ISPE:** Gli indicatori ISEE e ISPE non devono superare i limiti imposti per vari benefici.\n",
       "3. **Giustificativi di identità:** È necessario presentare copia del passaporto e del permesso di soggiorno valido.\n",
       "4. **Status giuridico:** Se si è in attesa del permesso di soggiorno per richiesta asilo o simili, è necessario presentare i documenti a supporto e l'eventuale assegnazione dei benefici sarà condizionata al riconoscimento dello status.\n",
       "\n",
       "Gli studenti devono assicurarsi di seguire tutte le istruzioni e presentare la domanda entro le date stabilite per essere presi in considerazione per i benefici disponibili."
      ],
      "text/plain": [
       "<IPython.core.display.Markdown object>"
      ]
     },
     "metadata": {},
     "output_type": "display_data"
    }
   ],
   "source": [
    "question_5 = \"Descrivi il processo e i requisiti per gli studenti internazionali provenienti da paesi non UE per fare domanda di benefici.\"\n",
    "answer_question(question_5)"
   ]
  },
  {
   "cell_type": "code",
   "execution_count": 88,
   "metadata": {},
   "outputs": [
    {
     "name": "stdout",
     "output_type": "stream",
     "text": [
      "Question: Quali sono i requisiti specifici per gli studenti che desiderano fare domanda per il 'Contributo per studenti fuori sede in alloggio che intraprendono un tirocinio formativo post lauream in Emilia-Romagna'?\n",
      "Context can answer the question\n",
      "Answer:\n"
     ]
    },
    {
     "data": {
      "text/markdown": [
       "Gli studenti che desiderano fare domanda per il \"Contributo per studenti fuori sede in alloggio che intraprendono un tirocinio formativo post lauream in Emilia-Romagna\" devono soddisfare i seguenti requisiti specifici:\n",
       "\n",
       "a) Essere iscritti all'ultimo anno o al primo anno fuori corso di tutti i corsi di laurea (o diploma accademico di primo livello), laurea magistrale (o diploma accademico di secondo livello), laurea magistrale a ciclo unico, ad esclusione dei corsi di Laurea in Odontoiatria e Protesi dentaria, Medicina e Chirurgia, e degli altri corsi delle professioni sanitarie.\n",
       "\n",
       "b) Essere idonei al servizio abitativo di ER.GO per l'anno accademico 2024/2025, nelle graduatorie pubblicate ai sensi dell'art. 15 della Sezione I - Norme Generali del Bando di concorso a.a. 2024/2025, e assegnatari di posto alloggio nello stesso anno accademico.\n",
       "\n",
       "c) Essere idonei alla borsa di studio di ER.GO per l'anno accademico 2024/2025, nelle graduatorie pubblicate ai sensi dell'art. 15 della Sezione I - Norme Generali del Bando di concorso a.a. 2024/2025, e aver già ottenuto l'idoneità alla borsa di studio nell'anno accademico precedente.\n",
       "\n",
       "d) Svolgere un tirocinio formativo sul territorio dell’Emilia-Romagna dopo la laurea (o diploma accademico di primo livello) o la laurea magistrale (o diploma accademico di secondo livello) o la laurea magistrale a ciclo unico, per un periodo non inferiore a tre mesi e per la durata massima di sei mesi."
      ],
      "text/plain": [
       "<IPython.core.display.Markdown object>"
      ]
     },
     "metadata": {},
     "output_type": "display_data"
    }
   ],
   "source": [
    "question_6 = \"Quali sono i requisiti specifici per gli studenti che desiderano fare domanda per il 'Contributo per studenti fuori sede in alloggio che intraprendono un tirocinio formativo post lauream in Emilia-Romagna'?\"\n",
    "answer_question(question_6)"
   ]
  },
  {
   "cell_type": "code",
   "execution_count": 90,
   "metadata": {},
   "outputs": [
    {
     "name": "stdout",
     "output_type": "stream",
     "text": [
      "Question: Spiega la procedura per gli studenti per presentare la documentazione ISEE e le conseguenze di presentare un ISEE incompleto.\n",
      "Context can answer the question\n",
      "Answer:\n"
     ]
    },
    {
     "data": {
      "text/markdown": [
       "Per presentare la documentazione ISEE necessaria per la domanda di benefici per il diritto allo studio universitario, gli studenti devono seguire questi passaggi:\n",
       "\n",
       "1. **Richiesta di Attestazione ISEE**: Gli studenti devono ottenere l'Attestazione ISEE per prestazioni agevolate per il diritto allo studio universitario (ISEE 2024), che può essere richiesta presso INPS, CAF o Comune. È essenziale richiedere esplicitamente il calcolo per le prestazioni agevolate per il diritto allo studio.\n",
       "\n",
       "2. **Accesso al Portale ISEE**: In alternativa, l'Attestazione può essere ottenuta accedendo alla Dichiarazione Sostitutiva Unica (DSU) precompilata tramite il Portale Unico ISEE.\n",
       "\n",
       "3. **Ritiro della Ricevuta**: Al momento della richiesta, viene consegnata una ricevuta della presentazione della DSU con indicazioni su come ritirare l'Attestazione ISEE, che verrà resa disponibile fino a 10 giorni dopo la richiesta.\n",
       "\n",
       "4. **Inserimento Dati Economici nella Domanda**: Nella sezione dei dati economici della domanda online, gli studenti devono inserire il numero di protocollo INPS per visualizzare i dati dell'Attestazione ISEE in tempo reale.\n",
       "\n",
       "5. **Monitoraggio dello Stato della Domanda**: È fondamentale monitorare lo stato della propria domanda per verificare l'avvenuta ricezione e completezza dei dati acquisiti.\n",
       "\n",
       "Conseguenze di presentare un ISEE incompleto:\n",
       "\n",
       "- La domanda non sarà valutata per l'idoneità ai benefici fino a quando non sarà completata la procedura di verifica dei dati economici acquisiti.\n",
       "- La presentazione di documentazione incompleta potrebbe comportare ritardi o la sospensione dell'assegnazione dei benefici fino alla verifica dell'ISEE corretto.\n",
       "\n",
       "Assicurati di completare tutti i passaggi tempestivamente per evitare inconvenienti."
      ],
      "text/plain": [
       "<IPython.core.display.Markdown object>"
      ]
     },
     "metadata": {},
     "output_type": "display_data"
    }
   ],
   "source": [
    "question_7 = \"Spiega la procedura per gli studenti per presentare la documentazione ISEE e le conseguenze di presentare un ISEE incompleto.\"\n",
    "answer_question(question_7)"
   ]
  },
  {
   "cell_type": "code",
   "execution_count": null,
   "metadata": {},
   "outputs": [],
   "source": [
    "# Print Nome Swann\n",
    "def swannFunc():\n",
    "    print(\"Complimenti Swann hai modificato con successo il file\")\n",
    "\n",
    "    #kopo"
    "def FedericoFunction():\n",
    "    print(\"Modifica di Federico\")"
   ]
  },
  {
   "cell_type": "code",
   "execution_count": null,
   "metadata": {},
   "outputs": [],
   "source": [
    "#Nuova linea di commento a caso"
    "def BeatriceFunction():\n",
    "    print(\"Modifica di Beatrice\")"
   ]
  }
 ],
 "metadata": {
  "kernelspec": {
   "display_name": "Python 3",
   "language": "python",
   "name": "python3"
  },
  "language_info": {
   "codemirror_mode": {
    "name": "ipython",
    "version": 3
   },
   "file_extension": ".py",
   "mimetype": "text/x-python",
   "name": "python",
   "nbconvert_exporter": "python",
   "pygments_lexer": "ipython3",
   "version": "3.11.8"
  }
 },
 "nbformat": 4,
 "nbformat_minor": 2
}
